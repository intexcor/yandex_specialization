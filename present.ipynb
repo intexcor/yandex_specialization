{
  "cells": [
    {
      "cell_type": "markdown",
      "source": [
        "# Начало работы"
      ],
      "metadata": {
        "id": "57DqJQ1rtaTB"
      },
      "id": "57DqJQ1rtaTB"
    },
    {
      "cell_type": "markdown",
      "id": "4a55b2df-c78c-44da-8aaf-cfcf91506d78",
      "metadata": {
        "id": "4a55b2df-c78c-44da-8aaf-cfcf91506d78"
      },
      "source": [
        "Импортируем библиотеки"
      ]
    },
    {
      "cell_type": "code",
      "execution_count": null,
      "id": "59c4297f-5fbf-433d-9cba-2ef51f769995",
      "metadata": {
        "execution": {
          "iopub.execute_input": "2024-12-19T14:42:37.438314Z",
          "iopub.status.busy": "2024-12-19T14:42:37.437798Z",
          "iopub.status.idle": "2024-12-19T14:42:38.837195Z",
          "shell.execute_reply": "2024-12-19T14:42:38.836236Z",
          "shell.execute_reply.started": "2024-12-19T14:42:37.438286Z"
        },
        "tags": [],
        "id": "59c4297f-5fbf-433d-9cba-2ef51f769995"
      },
      "outputs": [],
      "source": [
        "import os\n",
        "\n",
        "from tqdm import tqdm\n",
        "import torch\n",
        "import pandas as pd\n",
        "import torchvision\n",
        "from torchsampler import ImbalancedDatasetSampler\n",
        "import random"
      ]
    },
    {
      "cell_type": "code",
      "execution_count": null,
      "id": "39035328-f275-4aa8-b988-b78ed387175f",
      "metadata": {
        "execution": {
          "iopub.execute_input": "2024-12-19T14:42:38.839297Z",
          "iopub.status.busy": "2024-12-19T14:42:38.838706Z",
          "iopub.status.idle": "2024-12-19T14:42:38.848651Z",
          "shell.execute_reply": "2024-12-19T14:42:38.847813Z",
          "shell.execute_reply.started": "2024-12-19T14:42:38.839274Z"
        },
        "tags": [],
        "id": "39035328-f275-4aa8-b988-b78ed387175f"
      },
      "outputs": [],
      "source": [
        "torch.backends.cudnn.benchmark = True\n",
        "NUM_WORKERS = os.cpu_count()"
      ]
    },
    {
      "cell_type": "markdown",
      "id": "a5204e7a-6be6-4a5e-beb4-65e958caa6d7",
      "metadata": {
        "id": "a5204e7a-6be6-4a5e-beb4-65e958caa6d7"
      },
      "source": [
        "Класс Trainer (обучает и валидирует модель, сохраняет метрики)"
      ]
    },
    {
      "cell_type": "code",
      "execution_count": null,
      "id": "0d8a0e87-be6e-4ff6-b253-6b2701645f3a",
      "metadata": {
        "execution": {
          "iopub.execute_input": "2024-12-19T14:42:38.849869Z",
          "iopub.status.busy": "2024-12-19T14:42:38.849482Z",
          "iopub.status.idle": "2024-12-19T14:42:38.882740Z",
          "shell.execute_reply": "2024-12-19T14:42:38.881969Z",
          "shell.execute_reply.started": "2024-12-19T14:42:38.849849Z"
        },
        "tags": [],
        "id": "0d8a0e87-be6e-4ff6-b253-6b2701645f3a"
      },
      "outputs": [],
      "source": [
        "import torch\n",
        "from tqdm import tqdm\n",
        "\n",
        "class Trainer:\n",
        "    def __init__(self, model, loss_fn, optimizer, scheduler=None):\n",
        "        self.model = model\n",
        "        self.loss_fn = loss_fn\n",
        "        self.optimizer = optimizer\n",
        "        self.scheduler = scheduler\n",
        "        self.train_losses = []\n",
        "        self.val_losses = []\n",
        "        self.train_accuracies = []\n",
        "        self.val_accuracies = []\n",
        "        self.best_accuracy = 0\n",
        "        self.pateince = 0\n",
        "\n",
        "    def train(self, dataloader, epochs, test_loader):\n",
        "        dataloader.dataset.is_augms = True\n",
        "        size = len(dataloader.dataset)\n",
        "\n",
        "        for epoch in range(epochs):\n",
        "            self.model.train()\n",
        "            total_loss = 0\n",
        "            total_accuracy = 0\n",
        "\n",
        "            for X, y in tqdm(dataloader):\n",
        "                X, y = X.to(device), y.to(device)\n",
        "                self.optimizer.zero_grad(set_to_none=True)\n",
        "                output = self.model(X)\n",
        "                loss = self.loss_fn(output, y)\n",
        "                loss.backward()\n",
        "                self.optimizer.step()\n",
        "\n",
        "                total_loss += loss.item()\n",
        "                total_accuracy += output.argmax(1).eq(y).float().sum().item()\n",
        "\n",
        "            self.train_losses.append(total_loss / size)\n",
        "            self.train_accuracies.append(total_accuracy / size)\n",
        "            print(f\"Epoch {epoch + 1}, Training Loss: {total_loss / size}, Training Accuracy: {total_accuracy / size}\")\n",
        "\n",
        "            self.eval(test_loader)\n",
        "\n",
        "            if self.pateince >= 20:\n",
        "                print('Early Stopping triggered.')\n",
        "                return\n",
        "\n",
        "    def eval(self, dataloader):\n",
        "        dataloader.dataset.is_augms = False\n",
        "        self.model.eval()\n",
        "        total_loss = 0\n",
        "        total_accuracy = 0\n",
        "\n",
        "        with torch.no_grad():\n",
        "            for X, y in tqdm(dataloader):\n",
        "                X, y = X.to(device), y.to(device)\n",
        "                output = self.model(X)\n",
        "                loss = self.loss_fn(output, y)\n",
        "                total_loss += loss.item()\n",
        "                total_accuracy += output.argmax(1).eq(y).float().sum().item()\n",
        "\n",
        "        self.val_losses.append(total_loss / len(dataloader))\n",
        "        self.val_accuracies.append(total_accuracy / len(dataloader.dataset))\n",
        "\n",
        "        if self.scheduler:\n",
        "            self.scheduler.step(total_accuracy / len(dataloader.dataset))\n",
        "\n",
        "        if self.best_accuracy < total_accuracy / len(dataloader.dataset) + 0.005:\n",
        "            self.best_accuracy = total_accuracy / len(dataloader.dataset)\n",
        "            PATH = \"mobileV2.pt\"\n",
        "            print('Model improved and saved.')\n",
        "            torch.save(self.model.state_dict(), PATH)\n",
        "            self.pateince = 0\n",
        "        else:\n",
        "            self.pateince += 1\n",
        "            print(f\"Улучшений не обнаружено, счетчик терпения {self.pateince}/20\")\n",
        "\n",
        "        print(\n",
        "            f\"Validation Loss: {total_loss / len(dataloader)}, Validation Accuracy: {total_accuracy / len(dataloader.dataset)}\")\n"
      ]
    },
    {
      "cell_type": "markdown",
      "source": [
        "# Модель"
      ],
      "metadata": {
        "id": "iAMQnDM4tjdZ"
      },
      "id": "iAMQnDM4tjdZ"
    },
    {
      "cell_type": "markdown",
      "id": "23f2f1fa-5cf6-4c87-8612-af2f35a234e3",
      "metadata": {
        "id": "23f2f1fa-5cf6-4c87-8612-af2f35a234e3"
      },
      "source": [
        "Класс модели MobileNetV2"
      ]
    },
    {
      "cell_type": "code",
      "execution_count": null,
      "id": "1ed3f42d-3f1d-4679-9bbf-3cf530af1bff",
      "metadata": {
        "execution": {
          "iopub.execute_input": "2024-12-19T14:42:38.884499Z",
          "iopub.status.busy": "2024-12-19T14:42:38.884019Z",
          "iopub.status.idle": "2024-12-19T14:42:38.919200Z",
          "shell.execute_reply": "2024-12-19T14:42:38.918428Z",
          "shell.execute_reply.started": "2024-12-19T14:42:38.884480Z"
        },
        "tags": [],
        "id": "1ed3f42d-3f1d-4679-9bbf-3cf530af1bff"
      },
      "outputs": [],
      "source": [
        "import collections\n",
        "import warnings\n",
        "from itertools import repeat\n",
        "from types import FunctionType\n",
        "from typing import Any\n",
        "from typing import Callable, List, Optional, Sequence, Tuple, Union\n",
        "from torch import nn, Tensor\n",
        "\n",
        "\n",
        "def _make_ntuple(x: Any, n: int) -> Tuple[Any, ...]:\n",
        "    \"\"\"\n",
        "    Make n-tuple from input x. If x is an iterable, then we just convert it to tuple.\n",
        "    Otherwise, we will make a tuple of length n, all with value of x.\n",
        "    reference: https://github.com/pytorch/pytorch/blob/master/torch/nn/modules/utils.py#L8\n",
        "\n",
        "    Args:\n",
        "        x (Any): input value\n",
        "        n (int): length of the resulting tuple\n",
        "    \"\"\"\n",
        "    if isinstance(x, collections.abc.Iterable):\n",
        "        return tuple(x)\n",
        "    return tuple(repeat(x, n))\n",
        "\n",
        "def _make_divisible(v: float, divisor: int, min_value: Optional[int] = None) -> int:\n",
        "    \"\"\"\n",
        "    This function is taken from the original tf repo.\n",
        "    It ensures that all layers have a channel number that is divisible by 8\n",
        "    It can be seen here:\n",
        "    https://github.com/tensorflow/models/blob/master/research/slim/nets/mobilenet/mobilenet.py\n",
        "    \"\"\"\n",
        "    if min_value is None:\n",
        "        min_value = divisor\n",
        "    new_v = max(min_value, int(v + divisor / 2) // divisor * divisor)\n",
        "    # Make sure that round down does not go down by more than 10%.\n",
        "    if new_v < 0.9 * v:\n",
        "        new_v += divisor\n",
        "    return new_v\n",
        "\n",
        "\n",
        "def _log_api_usage_once(obj: Any) -> None:\n",
        "\n",
        "    \"\"\"\n",
        "    Logs API usage(module and name) within an organization.\n",
        "    In a large ecosystem, it's often useful to track the PyTorch and\n",
        "    TorchVision APIs usage. This API provides the similar functionality to the\n",
        "    logging module in the Python stdlib. It can be used for debugging purpose\n",
        "    to log which methods are used and by default it is inactive, unless the user\n",
        "    manually subscribes a logger via the `SetAPIUsageLogger method <https://github.com/pytorch/pytorch/blob/eb3b9fe719b21fae13c7a7cf3253f970290a573e/c10/util/Logging.cpp#L114>`_.\n",
        "    Please note it is triggered only once for the same API call within a process.\n",
        "    It does not collect any data from open-source users since it is no-op by default.\n",
        "    For more information, please refer to\n",
        "    * PyTorch note: https://pytorch.org/docs/stable/notes/large_scale_deployments.html#api-usage-logging;\n",
        "    * Logging policy: https://github.com/pytorch/vision/issues/5052;\n",
        "\n",
        "    Args:\n",
        "        obj (class instance or method): an object to extract info from.\n",
        "    \"\"\"\n",
        "    module = obj.__module__\n",
        "    if not module.startswith(\"torchvision\"):\n",
        "        module = f\"torchvision.internal.{module}\"\n",
        "    name = obj.__class__.__name__\n",
        "    if isinstance(obj, FunctionType):\n",
        "        name = obj.__name__\n",
        "    torch._C._log_api_usage_once(f\"{module}.{name}\")\n",
        "\n",
        "\n",
        "class ConvNormActivation(torch.nn.Sequential):\n",
        "    def __init__(\n",
        "        self,\n",
        "        in_channels: int,\n",
        "        out_channels: int,\n",
        "        kernel_size: Union[int, Tuple[int, ...]] = 3,\n",
        "        stride: Union[int, Tuple[int, ...]] = 1,\n",
        "        padding: Optional[Union[int, Tuple[int, ...], str]] = None,\n",
        "        groups: int = 1,\n",
        "        norm_layer: Optional[Callable[..., torch.nn.Module]] = torch.nn.BatchNorm2d,\n",
        "        activation_layer: Optional[Callable[..., torch.nn.Module]] = torch.nn.ReLU,\n",
        "        dilation: Union[int, Tuple[int, ...]] = 1,\n",
        "        inplace: Optional[bool] = True,\n",
        "        bias: Optional[bool] = None,\n",
        "        conv_layer: Callable[..., torch.nn.Module] = torch.nn.Conv2d,\n",
        "    ) -> None:\n",
        "\n",
        "        if padding is None:\n",
        "            if isinstance(kernel_size, int) and isinstance(dilation, int):\n",
        "                padding = (kernel_size - 1) // 2 * dilation\n",
        "            else:\n",
        "                _conv_dim = len(kernel_size) if isinstance(kernel_size, Sequence) else len(dilation)\n",
        "                kernel_size = _make_ntuple(kernel_size, _conv_dim)\n",
        "                dilation = _make_ntuple(dilation, _conv_dim)\n",
        "                padding = tuple((kernel_size[i] - 1) // 2 * dilation[i] for i in range(_conv_dim))\n",
        "        if bias is None:\n",
        "            bias = norm_layer is None\n",
        "\n",
        "        layers = [\n",
        "            conv_layer(\n",
        "                in_channels,\n",
        "                out_channels,\n",
        "                kernel_size,\n",
        "                stride,\n",
        "                padding,\n",
        "                dilation=dilation,\n",
        "                groups=groups,\n",
        "                bias=bias,\n",
        "            )\n",
        "        ]\n",
        "\n",
        "        if norm_layer is not None:\n",
        "            layers.append(norm_layer(out_channels))\n",
        "\n",
        "        if activation_layer is not None:\n",
        "            params = {} if inplace is None else {\"inplace\": inplace}\n",
        "            layers.append(activation_layer(**params))\n",
        "        super().__init__(*layers)\n",
        "        _log_api_usage_once(self)\n",
        "        self.out_channels = out_channels\n",
        "\n",
        "        if self.__class__ == ConvNormActivation:\n",
        "            warnings.warn(\n",
        "                \"Don't use ConvNormActivation directly, please use Conv2dNormActivation and Conv3dNormActivation instead.\"\n",
        "            )\n",
        "\n",
        "\n",
        "class Conv2dNormActivation(ConvNormActivation):\n",
        "    \"\"\"\n",
        "    Configurable block used for Convolution2d-Normalization-Activation blocks.\n",
        "\n",
        "    Args:\n",
        "        in_channels (int): Number of channels in the input image\n",
        "        out_channels (int): Number of channels produced by the Convolution-Normalization-Activation block\n",
        "        kernel_size: (int, optional): Size of the convolving kernel. Default: 3\n",
        "        stride (int, optional): Stride of the convolution. Default: 1\n",
        "        padding (int, tuple or str, optional): Padding added to all four sides of the input. Default: None, in which case it will be calculated as ``padding = (kernel_size - 1) // 2 * dilation``\n",
        "        groups (int, optional): Number of blocked connections from input channels to output channels. Default: 1\n",
        "        norm_layer (Callable[..., torch.nn.Module], optional): Norm layer that will be stacked on top of the convolution layer. If ``None`` this layer won't be used. Default: ``torch.nn.BatchNorm2d``\n",
        "        activation_layer (Callable[..., torch.nn.Module], optional): Activation function which will be stacked on top of the normalization layer (if not None), otherwise on top of the conv layer. If ``None`` this layer won't be used. Default: ``torch.nn.ReLU``\n",
        "        dilation (int): Spacing between kernel elements. Default: 1\n",
        "        inplace (bool): Parameter for the activation layer, which can optionally do the operation in-place. Default ``True``\n",
        "        bias (bool, optional): Whether to use bias in the convolution layer. By default, biases are included if ``norm_layer is None``.\n",
        "\n",
        "    \"\"\"\n",
        "\n",
        "    def __init__(\n",
        "        self,\n",
        "        in_channels: int,\n",
        "        out_channels: int,\n",
        "        kernel_size: Union[int, Tuple[int, int]] = 3,\n",
        "        stride: Union[int, Tuple[int, int]] = 1,\n",
        "        padding: Optional[Union[int, Tuple[int, int], str]] = None,\n",
        "        groups: int = 1,\n",
        "        norm_layer: Optional[Callable[..., torch.nn.Module]] = torch.nn.BatchNorm2d,\n",
        "        activation_layer: Optional[Callable[..., torch.nn.Module]] = torch.nn.ReLU,\n",
        "        dilation: Union[int, Tuple[int, int]] = 1,\n",
        "        inplace: Optional[bool] = True,\n",
        "        bias: Optional[bool] = None,\n",
        "    ) -> None:\n",
        "\n",
        "        super().__init__(\n",
        "            in_channels,\n",
        "            out_channels,\n",
        "            kernel_size,\n",
        "            stride,\n",
        "            padding,\n",
        "            groups,\n",
        "            norm_layer,\n",
        "            activation_layer,\n",
        "            dilation,\n",
        "            inplace,\n",
        "            bias,\n",
        "            torch.nn.Conv2d,\n",
        "        )\n",
        "\n",
        "\n",
        "class InvertedResidual(nn.Module):\n",
        "    def __init__(\n",
        "        self, inp: int, oup: int, stride: int, expand_ratio: int, norm_layer: Optional[Callable[..., nn.Module]] = None\n",
        "    ) -> None:\n",
        "        super().__init__()\n",
        "        self.stride = stride\n",
        "        if stride not in [1, 2]:\n",
        "            raise ValueError(f\"stride should be 1 or 2 instead of {stride}\")\n",
        "\n",
        "        if norm_layer is None:\n",
        "            norm_layer = nn.BatchNorm2d\n",
        "\n",
        "        hidden_dim = int(round(inp * expand_ratio))\n",
        "        self.use_res_connect = self.stride == 1 and inp == oup\n",
        "\n",
        "        layers: List[nn.Module] = []\n",
        "        if expand_ratio != 1:\n",
        "            # pw\n",
        "            layers.append(\n",
        "                Conv2dNormActivation(inp, hidden_dim, kernel_size=1, norm_layer=norm_layer, activation_layer=nn.ReLU6)\n",
        "            )\n",
        "        layers.extend(\n",
        "            [\n",
        "                # dw\n",
        "                Conv2dNormActivation(\n",
        "                    hidden_dim,\n",
        "                    hidden_dim,\n",
        "                    stride=stride,\n",
        "                    groups=hidden_dim,\n",
        "                    norm_layer=norm_layer,\n",
        "                    activation_layer=nn.ReLU6,\n",
        "                ),\n",
        "                # pw-linear\n",
        "                nn.Conv2d(hidden_dim, oup, 1, 1, 0, bias=False),\n",
        "                norm_layer(oup),\n",
        "            ]\n",
        "        )\n",
        "        self.conv = nn.Sequential(*layers)\n",
        "        self.out_channels = oup\n",
        "        self._is_cn = stride > 1\n",
        "\n",
        "    def forward(self, x: Tensor) -> Tensor:\n",
        "        if self.use_res_connect:\n",
        "            return x + self.conv(x)\n",
        "        else:\n",
        "            return self.conv(x)\n",
        "\n",
        "\n",
        "class MobileNetV2(nn.Module):\n",
        "    def __init__(\n",
        "        self,\n",
        "        num_classes: int = 1000,\n",
        "        width_mult: float = 1.0,\n",
        "        inverted_residual_setting: Optional[List[List[int]]] = None,\n",
        "        round_nearest: int = 8,\n",
        "        block: Optional[Callable[..., nn.Module]] = None,\n",
        "        norm_layer: Optional[Callable[..., nn.Module]] = None,\n",
        "        dropout: float = 0.2,\n",
        "    ) -> None:\n",
        "        \"\"\"\n",
        "        MobileNet V2 main class\n",
        "\n",
        "        Args:\n",
        "            num_classes (int): Number of classes\n",
        "            width_mult (float): Width multiplier - adjusts number of channels in each layer by this amount\n",
        "            inverted_residual_setting: Network structure\n",
        "            round_nearest (int): Round the number of channels in each layer to be a multiple of this number\n",
        "            Set to 1 to turn off rounding\n",
        "            block: Module specifying inverted residual building block for mobilenet\n",
        "            norm_layer: Module specifying the normalization layer to use\n",
        "            dropout (float): The droupout probability\n",
        "\n",
        "        \"\"\"\n",
        "        super().__init__()\n",
        "        _log_api_usage_once(self)\n",
        "\n",
        "        if block is None:\n",
        "            block = InvertedResidual\n",
        "\n",
        "        if norm_layer is None:\n",
        "            norm_layer = nn.BatchNorm2d\n",
        "\n",
        "        input_channel = 32\n",
        "        last_channel = 1280\n",
        "\n",
        "        if inverted_residual_setting is None:\n",
        "            inverted_residual_setting = [\n",
        "                # t, c, n, s\n",
        "                [1, 16, 1, 1],\n",
        "                [6, 24, 2, 2],\n",
        "                [6, 32, 3, 2],\n",
        "                [6, 64, 4, 2],\n",
        "                [6, 96, 3, 1],\n",
        "                [6, 160, 3, 2],\n",
        "                [6, 320, 1, 1],\n",
        "            ]\n",
        "\n",
        "        # only check the first element, assuming user knows t,c,n,s are required\n",
        "        if len(inverted_residual_setting) == 0 or len(inverted_residual_setting[0]) != 4:\n",
        "            raise ValueError(\n",
        "                f\"inverted_residual_setting should be non-empty or a 4-element list, got {inverted_residual_setting}\"\n",
        "            )\n",
        "\n",
        "        # building first layer\n",
        "        input_channel = _make_divisible(input_channel * width_mult, round_nearest)\n",
        "        self.last_channel = _make_divisible(last_channel * max(1.0, width_mult), round_nearest)\n",
        "        features: List[nn.Module] = [\n",
        "            Conv2dNormActivation(3, input_channel, stride=2, norm_layer=norm_layer, activation_layer=nn.ReLU6)\n",
        "        ]\n",
        "        # building inverted residual blocks\n",
        "        for t, c, n, s in inverted_residual_setting:\n",
        "            output_channel = _make_divisible(c * width_mult, round_nearest)\n",
        "            for i in range(n):\n",
        "                stride = s if i == 0 else 1\n",
        "                features.append(block(input_channel, output_channel, stride, expand_ratio=t, norm_layer=norm_layer))\n",
        "                input_channel = output_channel\n",
        "        # building last several layers\n",
        "        features.append(\n",
        "            Conv2dNormActivation(\n",
        "                input_channel, self.last_channel, kernel_size=1, norm_layer=norm_layer, activation_layer=nn.ReLU6\n",
        "            )\n",
        "        )\n",
        "        # make it nn.Sequential\n",
        "        self.features = nn.Sequential(*features)\n",
        "\n",
        "        # building classifier\n",
        "        self.classifier = nn.Sequential(\n",
        "            nn.Dropout(p=dropout),\n",
        "            nn.Linear(self.last_channel, num_classes),\n",
        "        )\n",
        "\n",
        "        # weight initialization\n",
        "        for m in self.modules():\n",
        "            if isinstance(m, nn.Conv2d):\n",
        "                nn.init.kaiming_normal_(m.weight, mode=\"fan_out\")\n",
        "                if m.bias is not None:\n",
        "                    nn.init.zeros_(m.bias)\n",
        "            elif isinstance(m, (nn.BatchNorm2d, nn.GroupNorm)):\n",
        "                nn.init.ones_(m.weight)\n",
        "                nn.init.zeros_(m.bias)\n",
        "            elif isinstance(m, nn.Linear):\n",
        "                nn.init.normal_(m.weight, 0, 0.01)\n",
        "                nn.init.zeros_(m.bias)\n",
        "\n",
        "    def _forward_impl(self, x: Tensor) -> Tensor:\n",
        "        # This exists since TorchScript doesn't support inheritance, so the superclass method\n",
        "        # (this one) needs to have a name other than `forward` that can be accessed in a subclass\n",
        "        x = self.features(x)\n",
        "        # Cannot use \"squeeze\" as batch-size can be 1\n",
        "        x = nn.functional.adaptive_avg_pool2d(x, (1, 1))\n",
        "        x = torch.flatten(x, 1)\n",
        "        x = self.classifier(x)\n",
        "        return x\n",
        "\n",
        "    @torch.inference_mode\n",
        "    def inference(self, x: Tensor) -> Tensor:\n",
        "        return self._forward_impl(x)\n",
        "\n",
        "    def forward(self, x: Tensor) -> Tensor:\n",
        "        return self._forward_impl(x)"
      ]
    },
    {
      "cell_type": "code",
      "execution_count": null,
      "id": "fa71511f-5ec6-479d-9f96-009ef0b5887f",
      "metadata": {
        "execution": {
          "iopub.execute_input": "2024-12-19T14:42:38.920090Z",
          "iopub.status.busy": "2024-12-19T14:42:38.919751Z",
          "iopub.status.idle": "2024-12-19T14:42:38.952735Z",
          "shell.execute_reply": "2024-12-19T14:42:38.951998Z",
          "shell.execute_reply.started": "2024-12-19T14:42:38.920053Z"
        },
        "tags": [],
        "id": "fa71511f-5ec6-479d-9f96-009ef0b5887f",
        "outputId": "fb560b1c-597c-471b-f7e6-8259e743f6db"
      },
      "outputs": [
        {
          "name": "stdout",
          "output_type": "stream",
          "text": [
            "Using cuda device\n"
          ]
        }
      ],
      "source": [
        "device = (\n",
        "    \"cuda\"\n",
        "    if torch.cuda.is_available()\n",
        "    else \"mps\"\n",
        "    if torch.backends.mps.is_available()\n",
        "    else \"cpu\"\n",
        ")\n",
        "print(f\"Using {device} device\")"
      ]
    },
    {
      "cell_type": "markdown",
      "source": [
        "Создаем модель и смотрим ее параметры"
      ],
      "metadata": {
        "id": "zfOqjvIetnxf"
      },
      "id": "zfOqjvIetnxf"
    },
    {
      "cell_type": "code",
      "execution_count": null,
      "id": "0b9f00aa-feb7-4619-b9ad-8b03d639cbc7",
      "metadata": {
        "execution": {
          "iopub.execute_input": "2024-12-19T14:42:38.953925Z",
          "iopub.status.busy": "2024-12-19T14:42:38.953601Z",
          "iopub.status.idle": "2024-12-19T14:42:39.119431Z",
          "shell.execute_reply": "2024-12-19T14:42:39.118509Z",
          "shell.execute_reply.started": "2024-12-19T14:42:38.953904Z"
        },
        "tags": [],
        "id": "0b9f00aa-feb7-4619-b9ad-8b03d639cbc7"
      },
      "outputs": [],
      "source": [
        "model = MobileNetV2(num_classes=20).to(device)\n",
        "# model.load_state_dict(torch.load('mobileV2.pt', map_location=device, weights_only=True))"
      ]
    },
    {
      "cell_type": "code",
      "execution_count": null,
      "id": "65266bae-e37f-4329-be31-e3cda192c24c",
      "metadata": {
        "execution": {
          "iopub.execute_input": "2024-12-19T16:13:37.726857Z",
          "iopub.status.busy": "2024-12-19T16:13:37.726399Z",
          "iopub.status.idle": "2024-12-19T16:13:37.958172Z",
          "shell.execute_reply": "2024-12-19T16:13:37.957420Z",
          "shell.execute_reply.started": "2024-12-19T16:13:37.726835Z"
        },
        "id": "65266bae-e37f-4329-be31-e3cda192c24c",
        "outputId": "e4ea1c51-be77-4fac-8d56-f74a0ddf72ce"
      },
      "outputs": [
        {
          "name": "stdout",
          "output_type": "stream",
          "text": [
            "----------------------------------------------------------------\n",
            "        Layer (type)               Output Shape         Param #\n",
            "================================================================\n",
            "            Conv2d-1         [-1, 32, 112, 112]             864\n",
            "       BatchNorm2d-2         [-1, 32, 112, 112]              64\n",
            "             ReLU6-3         [-1, 32, 112, 112]               0\n",
            "            Conv2d-4         [-1, 32, 112, 112]             288\n",
            "       BatchNorm2d-5         [-1, 32, 112, 112]              64\n",
            "             ReLU6-6         [-1, 32, 112, 112]               0\n",
            "            Conv2d-7         [-1, 16, 112, 112]             512\n",
            "       BatchNorm2d-8         [-1, 16, 112, 112]              32\n",
            "  InvertedResidual-9         [-1, 16, 112, 112]               0\n",
            "           Conv2d-10         [-1, 96, 112, 112]           1,536\n",
            "      BatchNorm2d-11         [-1, 96, 112, 112]             192\n",
            "            ReLU6-12         [-1, 96, 112, 112]               0\n",
            "           Conv2d-13           [-1, 96, 56, 56]             864\n",
            "      BatchNorm2d-14           [-1, 96, 56, 56]             192\n",
            "            ReLU6-15           [-1, 96, 56, 56]               0\n",
            "           Conv2d-16           [-1, 24, 56, 56]           2,304\n",
            "      BatchNorm2d-17           [-1, 24, 56, 56]              48\n",
            " InvertedResidual-18           [-1, 24, 56, 56]               0\n",
            "           Conv2d-19          [-1, 144, 56, 56]           3,456\n",
            "      BatchNorm2d-20          [-1, 144, 56, 56]             288\n",
            "            ReLU6-21          [-1, 144, 56, 56]               0\n",
            "           Conv2d-22          [-1, 144, 56, 56]           1,296\n",
            "      BatchNorm2d-23          [-1, 144, 56, 56]             288\n",
            "            ReLU6-24          [-1, 144, 56, 56]               0\n",
            "           Conv2d-25           [-1, 24, 56, 56]           3,456\n",
            "      BatchNorm2d-26           [-1, 24, 56, 56]              48\n",
            " InvertedResidual-27           [-1, 24, 56, 56]               0\n",
            "           Conv2d-28          [-1, 144, 56, 56]           3,456\n",
            "      BatchNorm2d-29          [-1, 144, 56, 56]             288\n",
            "            ReLU6-30          [-1, 144, 56, 56]               0\n",
            "           Conv2d-31          [-1, 144, 28, 28]           1,296\n",
            "      BatchNorm2d-32          [-1, 144, 28, 28]             288\n",
            "            ReLU6-33          [-1, 144, 28, 28]               0\n",
            "           Conv2d-34           [-1, 32, 28, 28]           4,608\n",
            "      BatchNorm2d-35           [-1, 32, 28, 28]              64\n",
            " InvertedResidual-36           [-1, 32, 28, 28]               0\n",
            "           Conv2d-37          [-1, 192, 28, 28]           6,144\n",
            "      BatchNorm2d-38          [-1, 192, 28, 28]             384\n",
            "            ReLU6-39          [-1, 192, 28, 28]               0\n",
            "           Conv2d-40          [-1, 192, 28, 28]           1,728\n",
            "      BatchNorm2d-41          [-1, 192, 28, 28]             384\n",
            "            ReLU6-42          [-1, 192, 28, 28]               0\n",
            "           Conv2d-43           [-1, 32, 28, 28]           6,144\n",
            "      BatchNorm2d-44           [-1, 32, 28, 28]              64\n",
            " InvertedResidual-45           [-1, 32, 28, 28]               0\n",
            "           Conv2d-46          [-1, 192, 28, 28]           6,144\n",
            "      BatchNorm2d-47          [-1, 192, 28, 28]             384\n",
            "            ReLU6-48          [-1, 192, 28, 28]               0\n",
            "           Conv2d-49          [-1, 192, 28, 28]           1,728\n",
            "      BatchNorm2d-50          [-1, 192, 28, 28]             384\n",
            "            ReLU6-51          [-1, 192, 28, 28]               0\n",
            "           Conv2d-52           [-1, 32, 28, 28]           6,144\n",
            "      BatchNorm2d-53           [-1, 32, 28, 28]              64\n",
            " InvertedResidual-54           [-1, 32, 28, 28]               0\n",
            "           Conv2d-55          [-1, 192, 28, 28]           6,144\n",
            "      BatchNorm2d-56          [-1, 192, 28, 28]             384\n",
            "            ReLU6-57          [-1, 192, 28, 28]               0\n",
            "           Conv2d-58          [-1, 192, 14, 14]           1,728\n",
            "      BatchNorm2d-59          [-1, 192, 14, 14]             384\n",
            "            ReLU6-60          [-1, 192, 14, 14]               0\n",
            "           Conv2d-61           [-1, 64, 14, 14]          12,288\n",
            "      BatchNorm2d-62           [-1, 64, 14, 14]             128\n",
            " InvertedResidual-63           [-1, 64, 14, 14]               0\n",
            "           Conv2d-64          [-1, 384, 14, 14]          24,576\n",
            "      BatchNorm2d-65          [-1, 384, 14, 14]             768\n",
            "            ReLU6-66          [-1, 384, 14, 14]               0\n",
            "           Conv2d-67          [-1, 384, 14, 14]           3,456\n",
            "      BatchNorm2d-68          [-1, 384, 14, 14]             768\n",
            "            ReLU6-69          [-1, 384, 14, 14]               0\n",
            "           Conv2d-70           [-1, 64, 14, 14]          24,576\n",
            "      BatchNorm2d-71           [-1, 64, 14, 14]             128\n",
            " InvertedResidual-72           [-1, 64, 14, 14]               0\n",
            "           Conv2d-73          [-1, 384, 14, 14]          24,576\n",
            "      BatchNorm2d-74          [-1, 384, 14, 14]             768\n",
            "            ReLU6-75          [-1, 384, 14, 14]               0\n",
            "           Conv2d-76          [-1, 384, 14, 14]           3,456\n",
            "      BatchNorm2d-77          [-1, 384, 14, 14]             768\n",
            "            ReLU6-78          [-1, 384, 14, 14]               0\n",
            "           Conv2d-79           [-1, 64, 14, 14]          24,576\n",
            "      BatchNorm2d-80           [-1, 64, 14, 14]             128\n",
            " InvertedResidual-81           [-1, 64, 14, 14]               0\n",
            "           Conv2d-82          [-1, 384, 14, 14]          24,576\n",
            "      BatchNorm2d-83          [-1, 384, 14, 14]             768\n",
            "            ReLU6-84          [-1, 384, 14, 14]               0\n",
            "           Conv2d-85          [-1, 384, 14, 14]           3,456\n",
            "      BatchNorm2d-86          [-1, 384, 14, 14]             768\n",
            "            ReLU6-87          [-1, 384, 14, 14]               0\n",
            "           Conv2d-88           [-1, 64, 14, 14]          24,576\n",
            "      BatchNorm2d-89           [-1, 64, 14, 14]             128\n",
            " InvertedResidual-90           [-1, 64, 14, 14]               0\n",
            "           Conv2d-91          [-1, 384, 14, 14]          24,576\n",
            "      BatchNorm2d-92          [-1, 384, 14, 14]             768\n",
            "            ReLU6-93          [-1, 384, 14, 14]               0\n",
            "           Conv2d-94          [-1, 384, 14, 14]           3,456\n",
            "      BatchNorm2d-95          [-1, 384, 14, 14]             768\n",
            "            ReLU6-96          [-1, 384, 14, 14]               0\n",
            "           Conv2d-97           [-1, 96, 14, 14]          36,864\n",
            "      BatchNorm2d-98           [-1, 96, 14, 14]             192\n",
            " InvertedResidual-99           [-1, 96, 14, 14]               0\n",
            "          Conv2d-100          [-1, 576, 14, 14]          55,296\n",
            "     BatchNorm2d-101          [-1, 576, 14, 14]           1,152\n",
            "           ReLU6-102          [-1, 576, 14, 14]               0\n",
            "          Conv2d-103          [-1, 576, 14, 14]           5,184\n",
            "     BatchNorm2d-104          [-1, 576, 14, 14]           1,152\n",
            "           ReLU6-105          [-1, 576, 14, 14]               0\n",
            "          Conv2d-106           [-1, 96, 14, 14]          55,296\n",
            "     BatchNorm2d-107           [-1, 96, 14, 14]             192\n",
            "InvertedResidual-108           [-1, 96, 14, 14]               0\n",
            "          Conv2d-109          [-1, 576, 14, 14]          55,296\n",
            "     BatchNorm2d-110          [-1, 576, 14, 14]           1,152\n",
            "           ReLU6-111          [-1, 576, 14, 14]               0\n",
            "          Conv2d-112          [-1, 576, 14, 14]           5,184\n",
            "     BatchNorm2d-113          [-1, 576, 14, 14]           1,152\n",
            "           ReLU6-114          [-1, 576, 14, 14]               0\n",
            "          Conv2d-115           [-1, 96, 14, 14]          55,296\n",
            "     BatchNorm2d-116           [-1, 96, 14, 14]             192\n",
            "InvertedResidual-117           [-1, 96, 14, 14]               0\n",
            "          Conv2d-118          [-1, 576, 14, 14]          55,296\n",
            "     BatchNorm2d-119          [-1, 576, 14, 14]           1,152\n",
            "           ReLU6-120          [-1, 576, 14, 14]               0\n",
            "          Conv2d-121            [-1, 576, 7, 7]           5,184\n",
            "     BatchNorm2d-122            [-1, 576, 7, 7]           1,152\n",
            "           ReLU6-123            [-1, 576, 7, 7]               0\n",
            "          Conv2d-124            [-1, 160, 7, 7]          92,160\n",
            "     BatchNorm2d-125            [-1, 160, 7, 7]             320\n",
            "InvertedResidual-126            [-1, 160, 7, 7]               0\n",
            "          Conv2d-127            [-1, 960, 7, 7]         153,600\n",
            "     BatchNorm2d-128            [-1, 960, 7, 7]           1,920\n",
            "           ReLU6-129            [-1, 960, 7, 7]               0\n",
            "          Conv2d-130            [-1, 960, 7, 7]           8,640\n",
            "     BatchNorm2d-131            [-1, 960, 7, 7]           1,920\n",
            "           ReLU6-132            [-1, 960, 7, 7]               0\n",
            "          Conv2d-133            [-1, 160, 7, 7]         153,600\n",
            "     BatchNorm2d-134            [-1, 160, 7, 7]             320\n",
            "InvertedResidual-135            [-1, 160, 7, 7]               0\n",
            "          Conv2d-136            [-1, 960, 7, 7]         153,600\n",
            "     BatchNorm2d-137            [-1, 960, 7, 7]           1,920\n",
            "           ReLU6-138            [-1, 960, 7, 7]               0\n",
            "          Conv2d-139            [-1, 960, 7, 7]           8,640\n",
            "     BatchNorm2d-140            [-1, 960, 7, 7]           1,920\n",
            "           ReLU6-141            [-1, 960, 7, 7]               0\n",
            "          Conv2d-142            [-1, 160, 7, 7]         153,600\n",
            "     BatchNorm2d-143            [-1, 160, 7, 7]             320\n",
            "InvertedResidual-144            [-1, 160, 7, 7]               0\n",
            "          Conv2d-145            [-1, 960, 7, 7]         153,600\n",
            "     BatchNorm2d-146            [-1, 960, 7, 7]           1,920\n",
            "           ReLU6-147            [-1, 960, 7, 7]               0\n",
            "          Conv2d-148            [-1, 960, 7, 7]           8,640\n",
            "     BatchNorm2d-149            [-1, 960, 7, 7]           1,920\n",
            "           ReLU6-150            [-1, 960, 7, 7]               0\n",
            "          Conv2d-151            [-1, 320, 7, 7]         307,200\n",
            "     BatchNorm2d-152            [-1, 320, 7, 7]             640\n",
            "InvertedResidual-153            [-1, 320, 7, 7]               0\n",
            "          Conv2d-154           [-1, 1280, 7, 7]         409,600\n",
            "     BatchNorm2d-155           [-1, 1280, 7, 7]           2,560\n",
            "           ReLU6-156           [-1, 1280, 7, 7]               0\n",
            "         Dropout-157                 [-1, 1280]               0\n",
            "          Linear-158                   [-1, 20]          25,620\n",
            "================================================================\n",
            "Total params: 2,249,492\n",
            "Trainable params: 2,249,492\n",
            "Non-trainable params: 0\n",
            "----------------------------------------------------------------\n",
            "Input size (MB): 0.57\n",
            "Forward/backward pass size (MB): 152.86\n",
            "Params size (MB): 8.58\n",
            "Estimated Total Size (MB): 162.02\n",
            "----------------------------------------------------------------\n"
          ]
        }
      ],
      "source": [
        "from torchsummary import summary\n",
        "\n",
        "summary(model, input_size=(3, 224, 224), device = str(device))"
      ]
    },
    {
      "cell_type": "markdown",
      "id": "ab1f478c-3b1d-4314-bb78-0fcccd67a2db",
      "metadata": {
        "id": "ab1f478c-3b1d-4314-bb78-0fcccd67a2db"
      },
      "source": [
        "Создание класса лосса, который учитывает дисбаланс среди классов"
      ]
    },
    {
      "cell_type": "code",
      "execution_count": null,
      "id": "58e33799-cd9b-408a-a915-1f769f0ec014",
      "metadata": {
        "execution": {
          "iopub.execute_input": "2024-12-19T14:42:39.120714Z",
          "iopub.status.busy": "2024-12-19T14:42:39.120370Z",
          "iopub.status.idle": "2024-12-19T14:42:39.131292Z",
          "shell.execute_reply": "2024-12-19T14:42:39.130636Z",
          "shell.execute_reply.started": "2024-12-19T14:42:39.120693Z"
        },
        "tags": [],
        "id": "58e33799-cd9b-408a-a915-1f769f0ec014"
      },
      "outputs": [],
      "source": [
        "class FocalLoss(torch.nn.Module):\n",
        "    def __init__(self, alpha=1, gamma=2, reduction='mean'):\n",
        "        super().__init__()\n",
        "        self.alpha = alpha\n",
        "        self.gamma = gamma\n",
        "        self.reduction = reduction\n",
        "\n",
        "    def forward(self, inputs, targets):\n",
        "        ce_loss = torch.nn.functional.cross_entropy(inputs, targets, reduction='none')\n",
        "        pt = torch.exp(-ce_loss)\n",
        "        loss = self.alpha * (1 - pt) ** self.gamma * ce_loss\n",
        "\n",
        "        if self.reduction == 'mean':\n",
        "            return loss.mean()\n",
        "        elif self.reduction == 'sum':\n",
        "            return loss.sum()\n",
        "        return loss"
      ]
    },
    {
      "cell_type": "markdown",
      "source": [
        "# Работа с данными"
      ],
      "metadata": {
        "id": "r1Qmsv90t_QV"
      },
      "id": "r1Qmsv90t_QV"
    },
    {
      "cell_type": "markdown",
      "id": "7ca334ec-481b-4c8e-b35c-0efdae087ff1",
      "metadata": {
        "id": "7ca334ec-481b-4c8e-b35c-0efdae087ff1"
      },
      "source": [
        "Класс CustomDataset (он адаптирован под адаптивную аугментацию) + loss + optimizer + scheduler"
      ]
    },
    {
      "cell_type": "code",
      "execution_count": null,
      "id": "2d02344f-5e9b-43c7-8e13-58b7b02fb8f5",
      "metadata": {
        "execution": {
          "iopub.execute_input": "2024-12-19T14:42:39.132269Z",
          "iopub.status.busy": "2024-12-19T14:42:39.131899Z",
          "iopub.status.idle": "2024-12-19T14:42:39.242760Z",
          "shell.execute_reply": "2024-12-19T14:42:39.241962Z",
          "shell.execute_reply.started": "2024-12-19T14:42:39.132249Z"
        },
        "tags": [],
        "id": "2d02344f-5e9b-43c7-8e13-58b7b02fb8f5"
      },
      "outputs": [],
      "source": [
        "import torch.optim as optim\n",
        "from concurrent.futures import ThreadPoolExecutor\n",
        "\n",
        "# loss_fn = nn.CrossEntropy\n",
        "loss_fn = FocalLoss()\n",
        "optimizer = torch.optim.AdamW(model.parameters(), lr=1e-3, weight_decay=0.01)\n",
        "scheduler = optim.lr_scheduler.ReduceLROnPlateau(optimizer, mode='max', factor=0.5, patience=5, verbose=True)\n",
        "trainer = Trainer(model, loss_fn, optimizer, scheduler)\n",
        "\n",
        "\n",
        "class CustomDataset(torch.utils.data.Dataset):\n",
        "    def __init__(self, data_frame, images_dir, augmentations_dict, transforms, max_augmentations=2000):\n",
        "        super().__init__()\n",
        "        self.transforms = transforms  # Список аугментаций\n",
        "        self.data = []\n",
        "        self.labels = []\n",
        "        self.augmentations_dict = augmentations_dict\n",
        "        self.max_augmentations = max_augmentations\n",
        "\n",
        "        def load_image(row):\n",
        "            img_path = f\"{images_dir}{row['img_id']}.jpg\"\n",
        "            target = int(row['target_feature'])\n",
        "            image = torchvision.io.read_image(img_path).float() / 255.0\n",
        "\n",
        "            # аугментации\n",
        "            augmented_images = [self.transforms[0](image)]\n",
        "            if self.transforms:\n",
        "                num_augmentations = self.augmentations_dict[target]\n",
        "                count_a = 1\n",
        "                if num_augmentations>1:\n",
        "                    while count_a != num_augmentations:\n",
        "                        for transform in self.transforms[1:]:\n",
        "                            augmented_image = transform(image)\n",
        "                            augmented_images.append(augmented_image)\n",
        "                            count_a += 1\n",
        "                            if count_a == num_augmentations:\n",
        "                                break\n",
        "\n",
        "            return augmented_images, [torch.tensor(target)] * len(augmented_images)\n",
        "\n",
        "        with ThreadPoolExecutor() as executor:\n",
        "            futures = {executor.submit(load_image, row): row for _, row in data_frame.iterrows()}\n",
        "            for future in tqdm(futures.keys(), desc='Loading images'):\n",
        "                augmented_images, targets = future.result()\n",
        "                self.data.extend(augmented_images)\n",
        "                self.labels.extend(targets)\n",
        "\n",
        "    def __len__(self):\n",
        "        return len(self.data)\n",
        "\n",
        "    def get_labels(self):\n",
        "        return [label.item() for label in self.labels]\n",
        "\n",
        "    def __getitem__(self, idx):\n",
        "        image, label = self.data[idx], self.labels[idx]\n",
        "\n",
        "        return image, label\n",
        "\n",
        "\n",
        "torch.save(model.state_dict(), \"model.pth\")"
      ]
    },
    {
      "cell_type": "markdown",
      "id": "30bb57b7-f7a7-4ba5-b179-a00a88203bd5",
      "metadata": {
        "id": "30bb57b7-f7a7-4ba5-b179-a00a88203bd5"
      },
      "source": [
        "Аугментации"
      ]
    },
    {
      "cell_type": "code",
      "execution_count": null,
      "id": "3d47b11d-64c6-43c8-9dbd-82dad6debcaf",
      "metadata": {
        "execution": {
          "iopub.execute_input": "2024-12-19T14:42:39.244189Z",
          "iopub.status.busy": "2024-12-19T14:42:39.243742Z",
          "iopub.status.idle": "2024-12-19T14:42:39.260868Z",
          "shell.execute_reply": "2024-12-19T14:42:39.260194Z",
          "shell.execute_reply.started": "2024-12-19T14:42:39.244167Z"
        },
        "tags": [],
        "id": "3d47b11d-64c6-43c8-9dbd-82dad6debcaf"
      },
      "outputs": [],
      "source": [
        "import torchvision.transforms as transforms\n",
        "\n",
        "transformx = torchvision.transforms.Compose([\n",
        "    transforms.Resize((224, 224), antialias=True),\n",
        "    torchvision.transforms.Normalize(mean=[0.485, 0.456, 0.406], std=[0.229, 0.224, 0.225]),\n",
        "])\n",
        "\n",
        "transformx1 = torchvision.transforms.Compose([\n",
        "    transforms.Resize((224, 224), antialias=True),\n",
        "    torchvision.transforms.RandomHorizontalFlip(p=1.0),\n",
        "    torchvision.transforms.Normalize(mean=[0.485, 0.456, 0.406], std=[0.229, 0.224, 0.225]),\n",
        "])\n",
        "\n",
        "transformx2 = torchvision.transforms.Compose([\n",
        "    transforms.Resize((224, 224), antialias=True),\n",
        "    torchvision.transforms.RandomRotation(degrees=30),\n",
        "    torchvision.transforms.Normalize(mean=[0.485, 0.456, 0.406], std=[0.229, 0.224, 0.225]),\n",
        "])\n",
        "\n",
        "transformx3 = torchvision.transforms.Compose([\n",
        "    transforms.Resize((224, 224), antialias=True),\n",
        "    torchvision.transforms.RandomRotation(degrees=30),\n",
        "    torchvision.transforms.RandomHorizontalFlip(p=1.0),\n",
        "    torchvision.transforms.ColorJitter(brightness=0.2, contrast=0.2, saturation=0.2, hue=0.1),\n",
        "    torchvision.transforms.Normalize(mean=[0.485, 0.456, 0.406], std=[0.229, 0.224, 0.225]),\n",
        "])\n",
        "\n",
        "transformx4 = torchvision.transforms.Compose([\n",
        "    transforms.Resize((224, 224), antialias=True),\n",
        "    torchvision.transforms.RandomRotation(degrees=30),\n",
        "    torchvision.transforms.ColorJitter(brightness=0.2, contrast=0.2, saturation=0.2, hue=0.1),\n",
        "    torchvision.transforms.Normalize(mean=[0.485, 0.456, 0.406], std=[0.229, 0.224, 0.225]),\n",
        "])\n",
        "\n",
        "transformx5 = transforms.Compose([\n",
        "    transforms.Resize((224, 224), antialias=True),\n",
        "    torchvision.transforms.GaussianBlur(kernel_size=5, sigma=(0.1, 2.0)),\n",
        "    torchvision.transforms.Normalize(mean=[0.485, 0.456, 0.406], std=[0.229, 0.224, 0.225]),\n",
        "])\n",
        "\n",
        "transformx6 = transforms.Compose([\n",
        "    transforms.Resize((224, 224), antialias=True),\n",
        "    torchvision.transforms.GaussianBlur(kernel_size=5, sigma=(0.1, 2.0)),\n",
        "    torchvision.transforms.RandomHorizontalFlip(p=1.0),\n",
        "    torchvision.transforms.Normalize(mean=[0.485, 0.456, 0.406], std=[0.229, 0.224, 0.225]),\n",
        "])\n",
        "\n",
        "transformx7 = transforms.Compose([\n",
        "    transforms.Resize((224, 224), antialias=True),\n",
        "    transforms.RandomAffine(degrees=15, translate=(0.1, 0.1), scale=(0.9, 1.1)),\n",
        "    transforms.RandomHorizontalFlip(p=1.0),\n",
        "    transforms.Normalize(mean=[0.485, 0.456, 0.406], std=[0.229, 0.224, 0.225]),\n",
        "])\n",
        "\n",
        "transformx8 = transforms.Compose([\n",
        "    transforms.Resize((224, 224), antialias=True),\n",
        "    transforms.RandomAffine(degrees=15, translate=(0.1, 0.1), scale=(0.9, 1.1)),\n",
        "    transforms.Normalize(mean=[0.485, 0.456, 0.406], std=[0.229, 0.224, 0.225]),\n",
        "])"
      ]
    },
    {
      "cell_type": "markdown",
      "id": "29b0917a-ed90-4ae7-91e1-c272bf97e216",
      "metadata": {
        "id": "29b0917a-ed90-4ae7-91e1-c272bf97e216"
      },
      "source": [
        "Разделение даты"
      ]
    },
    {
      "cell_type": "code",
      "execution_count": null,
      "id": "4def3727-6032-4b34-b481-29396b4b3e2c",
      "metadata": {
        "execution": {
          "iopub.execute_input": "2024-12-19T14:42:39.263121Z",
          "iopub.status.busy": "2024-12-19T14:42:39.262797Z",
          "iopub.status.idle": "2024-12-19T14:42:39.686809Z",
          "shell.execute_reply": "2024-12-19T14:42:39.686019Z",
          "shell.execute_reply.started": "2024-12-19T14:42:39.263101Z"
        },
        "tags": [],
        "id": "4def3727-6032-4b34-b481-29396b4b3e2c"
      },
      "outputs": [],
      "source": [
        "from sklearn.model_selection import train_test_split\n",
        "import pandas as pd\n",
        "import matplotlib.pyplot as plt\n",
        "\n",
        "data = pd.read_csv(\"human_poses_data/train_answers.csv\")\n",
        "train_data, test_data = train_test_split(data, test_size=0.15, stratify=data['target_feature'])"
      ]
    },
    {
      "cell_type": "markdown",
      "id": "d918fbcd-218d-47eb-8c82-1ba050ea4c34",
      "metadata": {
        "id": "d918fbcd-218d-47eb-8c82-1ba050ea4c34"
      },
      "source": [
        "Кол-во аугментаций для каждого класса (в последствии не успели полностью подтвердить/опровергнуть гипотезу, которая гласит о том, что при выравнивании классов в датасете метрики будут лучше)"
      ]
    },
    {
      "cell_type": "code",
      "execution_count": null,
      "id": "3cf05eb1-2271-44b6-8b36-433aad742187",
      "metadata": {
        "execution": {
          "iopub.execute_input": "2024-12-19T14:42:39.688503Z",
          "iopub.status.busy": "2024-12-19T14:42:39.688152Z",
          "iopub.status.idle": "2024-12-19T14:42:39.700271Z",
          "shell.execute_reply": "2024-12-19T14:42:39.699555Z",
          "shell.execute_reply.started": "2024-12-19T14:42:39.688482Z"
        },
        "tags": [],
        "id": "3cf05eb1-2271-44b6-8b36-433aad742187"
      },
      "outputs": [],
      "source": [
        "counts = train_data['target_feature'].value_counts()\n",
        "counts = 2000 / counts\n",
        "counts = counts.round().astype(int).to_dict()\n",
        "counts = {key: 8 for key in range(21)}"
      ]
    },
    {
      "cell_type": "markdown",
      "source": [
        "Демонстрация дисбаланса классов"
      ],
      "metadata": {
        "id": "lrcJYhd4uV8X"
      },
      "id": "lrcJYhd4uV8X"
    },
    {
      "cell_type": "code",
      "execution_count": null,
      "id": "bdd12f1c-b4b6-4df2-b1ea-0026d5ae23c8",
      "metadata": {
        "execution": {
          "iopub.execute_input": "2024-12-19T14:42:39.701347Z",
          "iopub.status.busy": "2024-12-19T14:42:39.701017Z",
          "iopub.status.idle": "2024-12-19T14:42:39.922300Z",
          "shell.execute_reply": "2024-12-19T14:42:39.921586Z",
          "shell.execute_reply.started": "2024-12-19T14:42:39.701327Z"
        },
        "tags": [],
        "id": "bdd12f1c-b4b6-4df2-b1ea-0026d5ae23c8",
        "outputId": "fa362829-1c9c-44de-a8f4-4447417c04fb"
      },
      "outputs": [
        {
          "data": {
            "image/png": "[encoded data removed]",
            "text/plain": [
              "<Figure size 1000x600 with 1 Axes>"
            ]
          },
          "metadata": {},
          "output_type": "display_data"
        }
      ],
      "source": [
        "plt.figure(figsize=(10, 6))\n",
        "train_data['target_feature'].plot.hist(bins=30, edgecolor='black')\n",
        "\n",
        "plt.xticks(range(int(data['target_feature'].min()), int(data['target_feature'].max()) + 1))\n",
        "\n",
        "plt.title('Гистограмма классов')\n",
        "plt.xlabel('Значения')\n",
        "plt.ylabel('Частота')\n",
        "plt.grid(axis='y', alpha=0.75)\n",
        "plt.show()"
      ]
    },
    {
      "cell_type": "markdown",
      "source": [
        "Аугментируем train выборку"
      ],
      "metadata": {
        "id": "w7O5gJdeuaRY"
      },
      "id": "w7O5gJdeuaRY"
    },
    {
      "cell_type": "code",
      "execution_count": null,
      "id": "2e8cbb7a-7ba4-46f3-a5ab-6929317ee484",
      "metadata": {
        "execution": {
          "iopub.execute_input": "2024-12-19T14:42:39.923431Z",
          "iopub.status.busy": "2024-12-19T14:42:39.923083Z",
          "iopub.status.idle": "2024-12-19T14:48:44.718975Z",
          "shell.execute_reply": "2024-12-19T14:48:44.718265Z",
          "shell.execute_reply.started": "2024-12-19T14:42:39.923410Z"
        },
        "tags": [],
        "id": "2e8cbb7a-7ba4-46f3-a5ab-6929317ee484",
        "outputId": "d61a4da5-5cb5-448b-e7c5-4771545bd18e"
      },
      "outputs": [
        {
          "name": "stderr",
          "output_type": "stream",
          "text": [
            "Loading images: 100%|██████████| 10511/10511 [06:03<00:00, 28.91it/s]\n"
          ]
        }
      ],
      "source": [
        "img_base = CustomDataset(train_data, \"human_poses_data/img_train/\", counts, [transformx, transformx1, transformx2, transformx3, transformx4, transformx5, transformx6, transformx7, transformx8])"
      ]
    },
    {
      "cell_type": "markdown",
      "source": [
        "Гистаграмма после аугментаций"
      ],
      "metadata": {
        "id": "5gz1MR8eufMF"
      },
      "id": "5gz1MR8eufMF"
    },
    {
      "cell_type": "code",
      "execution_count": null,
      "id": "c47307f6-8cc6-48c9-8e5e-3c19a3d027d0",
      "metadata": {
        "execution": {
          "iopub.execute_input": "2024-12-19T14:48:44.720466Z",
          "iopub.status.busy": "2024-12-19T14:48:44.720033Z",
          "iopub.status.idle": "2024-12-19T14:48:45.688973Z",
          "shell.execute_reply": "2024-12-19T14:48:45.688070Z",
          "shell.execute_reply.started": "2024-12-19T14:48:44.720444Z"
        },
        "tags": [],
        "id": "c47307f6-8cc6-48c9-8e5e-3c19a3d027d0",
        "outputId": "4cf390a7-f1d2-4fb6-e090-a1520f48bc87"
      },
      "outputs": [
        {
          "data": {
            "image/png": "[encoded data removed]",
            "text/plain": [
              "<Figure size 1000x600 with 1 Axes>"
            ]
          },
          "metadata": {},
          "output_type": "display_data"
        }
      ],
      "source": [
        "plt.figure(figsize=(10, 6))\n",
        "plt.hist(img_base.labels, bins=30, edgecolor='black')\n",
        "\n",
        "plt.xticks(range(int(data['target_feature'].min()), int(data['target_feature'].max()) + 1))\n",
        "\n",
        "plt.title('Гистограмма классов')\n",
        "plt.xlabel('Значения')\n",
        "plt.ylabel('Частота')\n",
        "plt.grid(axis='y', alpha=0.75)\n",
        "plt.show()"
      ]
    },
    {
      "cell_type": "markdown",
      "source": [
        "Изначальный класс обработки датасета (не способен на адаптивную аугментацию)"
      ],
      "metadata": {
        "id": "seCoThQ6ulP-"
      },
      "id": "seCoThQ6ulP-"
    },
    {
      "cell_type": "code",
      "execution_count": null,
      "id": "777c2221-9413-444e-988b-430eec44385f",
      "metadata": {
        "execution": {
          "iopub.execute_input": "2024-12-19T14:48:45.690422Z",
          "iopub.status.busy": "2024-12-19T14:48:45.690017Z",
          "iopub.status.idle": "2024-12-19T14:48:45.718723Z",
          "shell.execute_reply": "2024-12-19T14:48:45.717909Z",
          "shell.execute_reply.started": "2024-12-19T14:48:45.690379Z"
        },
        "tags": [],
        "id": "777c2221-9413-444e-988b-430eec44385f"
      },
      "outputs": [],
      "source": [
        "class CustomDataset2(torch.utils.data.Dataset):\n",
        "    def __init__(self, data_frame, images_dir, transform=None):\n",
        "        super().__init__()\n",
        "        self.transform = transform\n",
        "        self.data = []\n",
        "        self.labels = []\n",
        "\n",
        "        def load_image(row):\n",
        "            img_path = f\"{images_dir}{row['img_id']}.jpg\"\n",
        "            target = int(row['target_feature'])\n",
        "            image = torchvision.io.read_image(img_path).float() / 255.0\n",
        "\n",
        "            if self.transform:\n",
        "                image = self.transform(image)\n",
        "\n",
        "            return image, torch.tensor(target)\n",
        "\n",
        "        with ThreadPoolExecutor() as executor:\n",
        "            futures = {executor.submit(load_image, row): row for _, row in data_frame.iterrows()}\n",
        "            for future in tqdm(futures.keys(), desc='Loading images'):\n",
        "                image, target = future.result()\n",
        "                self.data.append(image)\n",
        "                self.labels.append(target)\n",
        "\n",
        "    def __len__(self):\n",
        "        return len(self.data)\n",
        "\n",
        "    def get_labels(self):\n",
        "        return [label.item() for label in self.labels]\n",
        "\n",
        "    def __getitem__(self, idx):\n",
        "        return self.data[idx], self.labels[idx]"
      ]
    },
    {
      "cell_type": "markdown",
      "id": "32929573-3ea8-471e-ba61-f76d312a23d9",
      "metadata": {
        "id": "32929573-3ea8-471e-ba61-f76d312a23d9"
      },
      "source": [
        "Обработка Val датасета"
      ]
    },
    {
      "cell_type": "code",
      "execution_count": null,
      "id": "441ef01a-dd50-43e9-bca7-ec689fd9c492",
      "metadata": {
        "execution": {
          "iopub.execute_input": "2024-12-19T14:48:45.719986Z",
          "iopub.status.busy": "2024-12-19T14:48:45.719641Z",
          "iopub.status.idle": "2024-12-19T14:48:51.190307Z",
          "shell.execute_reply": "2024-12-19T14:48:51.189013Z",
          "shell.execute_reply.started": "2024-12-19T14:48:45.719966Z"
        },
        "tags": [],
        "id": "441ef01a-dd50-43e9-bca7-ec689fd9c492",
        "outputId": "4f100051-98fa-407d-f1fd-3c2d39757fea"
      },
      "outputs": [
        {
          "name": "stderr",
          "output_type": "stream",
          "text": [
            "Loading images: 100%|██████████| 1856/1856 [00:05<00:00, 358.94it/s]\n"
          ]
        }
      ],
      "source": [
        "train_dataset = img_base\n",
        "val_dataset = CustomDataset2(test_data, \"human_poses_data/img_train/\", transformx)"
      ]
    },
    {
      "cell_type": "code",
      "execution_count": null,
      "id": "d516b350-200b-4998-a0fd-a6bae8ac830f",
      "metadata": {
        "execution": {
          "iopub.execute_input": "2024-12-19T14:48:51.192959Z",
          "iopub.status.busy": "2024-12-19T14:48:51.191729Z",
          "iopub.status.idle": "2024-12-19T14:48:51.214853Z",
          "shell.execute_reply": "2024-12-19T14:48:51.214205Z",
          "shell.execute_reply.started": "2024-12-19T14:48:51.192936Z"
        },
        "id": "d516b350-200b-4998-a0fd-a6bae8ac830f"
      },
      "outputs": [],
      "source": [
        "BATCH_SIZE = 300"
      ]
    },
    {
      "cell_type": "markdown",
      "id": "9d70c019-efc8-428b-a07c-60d1adb51760",
      "metadata": {
        "id": "9d70c019-efc8-428b-a07c-60d1adb51760"
      },
      "source": [
        "Создание load-еров"
      ]
    },
    {
      "cell_type": "code",
      "execution_count": null,
      "id": "412e9f23-0f54-44f3-b77f-748258227b4d",
      "metadata": {
        "execution": {
          "iopub.execute_input": "2024-12-19T14:48:51.216322Z",
          "iopub.status.busy": "2024-12-19T14:48:51.215705Z",
          "iopub.status.idle": "2024-12-19T14:48:51.243812Z",
          "shell.execute_reply": "2024-12-19T14:48:51.243188Z",
          "shell.execute_reply.started": "2024-12-19T14:48:51.216302Z"
        },
        "tags": [],
        "id": "412e9f23-0f54-44f3-b77f-748258227b4d"
      },
      "outputs": [],
      "source": [
        "train_loader = torch.utils.data.DataLoader(train_dataset, batch_size=BATCH_SIZE, shuffle=True, num_workers=NUM_WORKERS,\n",
        "                                           pin_memory=True)\n",
        "test_loader = torch.utils.data.DataLoader(val_dataset, batch_size=BATCH_SIZE, num_workers=NUM_WORKERS, pin_memory=True)"
      ]
    },
    {
      "cell_type": "code",
      "execution_count": null,
      "id": "14cb49ac-6187-4e80-87df-8a1eb735d446",
      "metadata": {
        "execution": {
          "iopub.execute_input": "2024-12-19T14:48:51.244879Z",
          "iopub.status.busy": "2024-12-19T14:48:51.244558Z",
          "iopub.status.idle": "2024-12-19T14:48:51.256346Z",
          "shell.execute_reply": "2024-12-19T14:48:51.255644Z",
          "shell.execute_reply.started": "2024-12-19T14:48:51.244860Z"
        },
        "tags": [],
        "id": "14cb49ac-6187-4e80-87df-8a1eb735d446"
      },
      "outputs": [],
      "source": [
        "torch.cuda.empty_cache()"
      ]
    },
    {
      "cell_type": "markdown",
      "id": "b0acce18-fabe-4868-94b4-23aec3d38419",
      "metadata": {
        "id": "b0acce18-fabe-4868-94b4-23aec3d38419"
      },
      "source": [
        "# Обучение"
      ]
    },
    {
      "cell_type": "code",
      "execution_count": null,
      "id": "d5a2d7a2-55fa-4353-9a7a-9af21a01c8c4",
      "metadata": {
        "execution": {
          "iopub.execute_input": "2024-12-19T14:48:51.257403Z",
          "iopub.status.busy": "2024-12-19T14:48:51.257092Z",
          "iopub.status.idle": "2024-12-19T16:02:11.314872Z",
          "shell.execute_reply": "2024-12-19T16:02:11.313947Z",
          "shell.execute_reply.started": "2024-12-19T14:48:51.257385Z"
        },
        "tags": [],
        "id": "d5a2d7a2-55fa-4353-9a7a-9af21a01c8c4",
        "outputId": "26d3d1ae-0e92-4e83-edf8-afbc502cc9cf"
      },
      "outputs": [
        {
          "name": "stderr",
          "output_type": "stream",
          "text": [
            "100%|██████████| 281/281 [01:19<00:00,  3.52it/s]\n"
          ]
        },
        {
          "name": "stdout",
          "output_type": "stream",
          "text": [
            "Epoch 1, Training Loss: 0.005364728962339623, Training Accuracy: 0.3322233850252117\n"
          ]
        },
        {
          "name": "stderr",
          "output_type": "stream",
          "text": [
            "100%|██████████| 7/7 [00:13<00:00,  1.96s/it]\n"
          ]
        },
        {
          "name": "stdout",
          "output_type": "stream",
          "text": [
            "Model improved and saved.\n",
            "Validation Loss: 1.600973197392055, Validation Accuracy: 0.3480603448275862\n"
          ]
        },
        {
          "name": "stderr",
          "output_type": "stream",
          "text": [
            "100%|██████████| 281/281 [01:13<00:00,  3.81it/s]\n"
          ]
        },
        {
          "name": "stdout",
          "output_type": "stream",
          "text": [
            "Epoch 2, Training Loss: 0.0037445053018735166, Training Accuracy: 0.48302968318904005\n"
          ]
        },
        {
          "name": "stderr",
          "output_type": "stream",
          "text": [
            "100%|██████████| 7/7 [00:13<00:00,  1.97s/it]\n"
          ]
        },
        {
          "name": "stdout",
          "output_type": "stream",
          "text": [
            "Model improved and saved.\n",
            "Validation Loss: 1.2955340828214372, Validation Accuracy: 0.4552801724137931\n"
          ]
        },
        {
          "name": "stderr",
          "output_type": "stream",
          "text": [
            "100%|██████████| 281/281 [01:14<00:00,  3.79it/s]\n"
          ]
        },
        {
          "name": "stdout",
          "output_type": "stream",
          "text": [
            "Epoch 3, Training Loss: 0.0024896164059400806, Training Accuracy: 0.6243102464085244\n"
          ]
        },
        {
          "name": "stderr",
          "output_type": "stream",
          "text": [
            "100%|██████████| 7/7 [00:13<00:00,  1.95s/it]\n"
          ]
        },
        {
          "name": "stdout",
          "output_type": "stream",
          "text": [
            "Model improved and saved.\n",
            "Validation Loss: 1.0762282184192113, Validation Accuracy: 0.5382543103448276\n"
          ]
        },
        {
          "name": "stderr",
          "output_type": "stream",
          "text": [
            "100%|██████████| 281/281 [01:14<00:00,  3.80it/s]\n"
          ]
        },
        {
          "name": "stdout",
          "output_type": "stream",
          "text": [
            "Epoch 4, Training Loss: 0.0014918638008207454, Training Accuracy: 0.7488226619731709\n"
          ]
        },
        {
          "name": "stderr",
          "output_type": "stream",
          "text": [
            "100%|██████████| 7/7 [00:13<00:00,  1.95s/it]\n"
          ]
        },
        {
          "name": "stdout",
          "output_type": "stream",
          "text": [
            "Model improved and saved.\n",
            "Validation Loss: 1.0967773624828883, Validation Accuracy: 0.5705818965517241\n"
          ]
        },
        {
          "name": "stderr",
          "output_type": "stream",
          "text": [
            "100%|██████████| 281/281 [01:14<00:00,  3.79it/s]\n"
          ]
        },
        {
          "name": "stdout",
          "output_type": "stream",
          "text": [
            "Epoch 5, Training Loss: 0.0008233616458350069, Training Accuracy: 0.845447626296261\n"
          ]
        },
        {
          "name": "stderr",
          "output_type": "stream",
          "text": [
            "100%|██████████| 7/7 [00:13<00:00,  1.96s/it]"
          ]
        },
        {
          "name": "stdout",
          "output_type": "stream",
          "text": [
            "Model improved and saved.\n"
          ]
        },
        {
          "name": "stderr",
          "output_type": "stream",
          "text": [
            "\n"
          ]
        },
        {
          "name": "stdout",
          "output_type": "stream",
          "text": [
            "Validation Loss: 1.2111117499215263, Validation Accuracy: 0.5926724137931034\n"
          ]
        },
        {
          "name": "stderr",
          "output_type": "stream",
          "text": [
            "100%|██████████| 281/281 [01:13<00:00,  3.81it/s]\n"
          ]
        },
        {
          "name": "stdout",
          "output_type": "stream",
          "text": [
            "Epoch 6, Training Loss: 0.0005018068630797302, Training Accuracy: 0.8975121301493674\n"
          ]
        },
        {
          "name": "stderr",
          "output_type": "stream",
          "text": [
            "100%|██████████| 7/7 [00:13<00:00,  1.95s/it]\n"
          ]
        },
        {
          "name": "stdout",
          "output_type": "stream",
          "text": [
            "Model improved and saved.\n",
            "Validation Loss: 1.1665887492043632, Validation Accuracy: 0.6018318965517241\n"
          ]
        },
        {
          "name": "stderr",
          "output_type": "stream",
          "text": [
            "100%|██████████| 281/281 [01:14<00:00,  3.79it/s]\n"
          ]
        },
        {
          "name": "stdout",
          "output_type": "stream",
          "text": [
            "Epoch 7, Training Loss: 0.0003662487828574033, Training Accuracy: 0.9216891827609172\n"
          ]
        },
        {
          "name": "stderr",
          "output_type": "stream",
          "text": [
            "100%|██████████| 7/7 [00:13<00:00,  1.96s/it]\n"
          ]
        },
        {
          "name": "stdout",
          "output_type": "stream",
          "text": [
            "Model improved and saved.\n",
            "Validation Loss: 1.2253531643322535, Validation Accuracy: 0.6174568965517241\n"
          ]
        },
        {
          "name": "stderr",
          "output_type": "stream",
          "text": [
            "100%|██████████| 281/281 [01:13<00:00,  3.80it/s]\n"
          ]
        },
        {
          "name": "stdout",
          "output_type": "stream",
          "text": [
            "Epoch 8, Training Loss: 0.0002658027101082343, Training Accuracy: 0.9393968223765579\n"
          ]
        },
        {
          "name": "stderr",
          "output_type": "stream",
          "text": [
            "100%|██████████| 7/7 [00:14<00:00,  2.00s/it]"
          ]
        },
        {
          "name": "stdout",
          "output_type": "stream",
          "text": [
            "Model improved and saved.\n"
          ]
        },
        {
          "name": "stderr",
          "output_type": "stream",
          "text": [
            "\n"
          ]
        },
        {
          "name": "stdout",
          "output_type": "stream",
          "text": [
            "Validation Loss: 1.251460782119206, Validation Accuracy: 0.6293103448275862\n"
          ]
        },
        {
          "name": "stderr",
          "output_type": "stream",
          "text": [
            "100%|██████████| 281/281 [01:13<00:00,  3.80it/s]\n"
          ]
        },
        {
          "name": "stdout",
          "output_type": "stream",
          "text": [
            "Epoch 9, Training Loss: 0.00023648644646521771, Training Accuracy: 0.9459138045856722\n"
          ]
        },
        {
          "name": "stderr",
          "output_type": "stream",
          "text": [
            "100%|██████████| 7/7 [00:13<00:00,  1.97s/it]"
          ]
        },
        {
          "name": "stdout",
          "output_type": "stream",
          "text": [
            "Model improved and saved.\n"
          ]
        },
        {
          "name": "stderr",
          "output_type": "stream",
          "text": [
            "\n"
          ]
        },
        {
          "name": "stdout",
          "output_type": "stream",
          "text": [
            "Validation Loss: 1.286225174154554, Validation Accuracy: 0.6363146551724138\n"
          ]
        },
        {
          "name": "stderr",
          "output_type": "stream",
          "text": [
            "100%|██████████| 281/281 [01:14<00:00,  3.79it/s]\n"
          ]
        },
        {
          "name": "stdout",
          "output_type": "stream",
          "text": [
            "Epoch 10, Training Loss: 0.00019655785144216076, Training Accuracy: 0.9536913709447246\n"
          ]
        },
        {
          "name": "stderr",
          "output_type": "stream",
          "text": [
            "100%|██████████| 7/7 [00:13<00:00,  1.95s/it]\n"
          ]
        },
        {
          "name": "stdout",
          "output_type": "stream",
          "text": [
            "Model improved and saved.\n",
            "Validation Loss: 1.2708697319030762, Validation Accuracy: 0.6422413793103449\n"
          ]
        },
        {
          "name": "stderr",
          "output_type": "stream",
          "text": [
            "100%|██████████| 281/281 [01:13<00:00,  3.81it/s]\n"
          ]
        },
        {
          "name": "stdout",
          "output_type": "stream",
          "text": [
            "Epoch 11, Training Loss: 0.00019679662337626449, Training Accuracy: 0.953905432404148\n"
          ]
        },
        {
          "name": "stderr",
          "output_type": "stream",
          "text": [
            "100%|██████████| 7/7 [00:13<00:00,  1.95s/it]\n"
          ]
        },
        {
          "name": "stdout",
          "output_type": "stream",
          "text": [
            "Улучшений не обнаружено, счетчик терпения 1/20\n",
            "Validation Loss: 1.4547675507409232, Validation Accuracy: 0.6142241379310345\n"
          ]
        },
        {
          "name": "stderr",
          "output_type": "stream",
          "text": [
            "100%|██████████| 281/281 [01:14<00:00,  3.79it/s]\n"
          ]
        },
        {
          "name": "stdout",
          "output_type": "stream",
          "text": [
            "Epoch 12, Training Loss: 0.00019000622074550984, Training Accuracy: 0.9559865854818761\n"
          ]
        },
        {
          "name": "stderr",
          "output_type": "stream",
          "text": [
            "100%|██████████| 7/7 [00:13<00:00,  1.97s/it]\n"
          ]
        },
        {
          "name": "stdout",
          "output_type": "stream",
          "text": [
            "Улучшений не обнаружено, счетчик терпения 2/20\n",
            "Validation Loss: 1.393451792853219, Validation Accuracy: 0.6201508620689655\n"
          ]
        },
        {
          "name": "stderr",
          "output_type": "stream",
          "text": [
            "100%|██████████| 281/281 [01:14<00:00,  3.80it/s]\n"
          ]
        },
        {
          "name": "stdout",
          "output_type": "stream",
          "text": [
            "Epoch 13, Training Loss: 0.00015893804801048696, Training Accuracy: 0.9629435829131386\n"
          ]
        },
        {
          "name": "stderr",
          "output_type": "stream",
          "text": [
            "100%|██████████| 7/7 [00:13<00:00,  1.96s/it]\n"
          ]
        },
        {
          "name": "stdout",
          "output_type": "stream",
          "text": [
            "Model improved and saved.\n",
            "Validation Loss: 1.2795893890517098, Validation Accuracy: 0.6492456896551724\n"
          ]
        },
        {
          "name": "stderr",
          "output_type": "stream",
          "text": [
            "100%|██████████| 281/281 [01:14<00:00,  3.79it/s]\n"
          ]
        },
        {
          "name": "stdout",
          "output_type": "stream",
          "text": [
            "Epoch 14, Training Loss: 0.0001365458224399008, Training Accuracy: 0.9669393968223765\n"
          ]
        },
        {
          "name": "stderr",
          "output_type": "stream",
          "text": [
            "100%|██████████| 7/7 [00:13<00:00,  1.93s/it]\n"
          ]
        },
        {
          "name": "stdout",
          "output_type": "stream",
          "text": [
            "Улучшений не обнаружено, счетчик терпения 1/20\n",
            "Validation Loss: 1.5280944279261999, Validation Accuracy: 0.609375\n"
          ]
        },
        {
          "name": "stderr",
          "output_type": "stream",
          "text": [
            "100%|██████████| 281/281 [01:14<00:00,  3.79it/s]\n"
          ]
        },
        {
          "name": "stdout",
          "output_type": "stream",
          "text": [
            "Epoch 15, Training Loss: 0.00016070016110315033, Training Accuracy: 0.96158786033679\n"
          ]
        },
        {
          "name": "stderr",
          "output_type": "stream",
          "text": [
            "100%|██████████| 7/7 [00:13<00:00,  1.97s/it]\n"
          ]
        },
        {
          "name": "stdout",
          "output_type": "stream",
          "text": [
            "Улучшений не обнаружено, счетчик терпения 2/20\n",
            "Validation Loss: 1.4779235890933446, Validation Accuracy: 0.6379310344827587\n"
          ]
        },
        {
          "name": "stderr",
          "output_type": "stream",
          "text": [
            "100%|██████████| 281/281 [01:13<00:00,  3.80it/s]\n"
          ]
        },
        {
          "name": "stdout",
          "output_type": "stream",
          "text": [
            "Epoch 16, Training Loss: 0.00014249960592286113, Training Accuracy: 0.9655242127295215\n"
          ]
        },
        {
          "name": "stderr",
          "output_type": "stream",
          "text": [
            "100%|██████████| 7/7 [00:13<00:00,  1.94s/it]\n"
          ]
        },
        {
          "name": "stdout",
          "output_type": "stream",
          "text": [
            "Model improved and saved.\n",
            "Validation Loss: 1.3621769121715002, Validation Accuracy: 0.6535560344827587\n"
          ]
        },
        {
          "name": "stderr",
          "output_type": "stream",
          "text": [
            "100%|██████████| 281/281 [01:14<00:00,  3.78it/s]\n"
          ]
        },
        {
          "name": "stdout",
          "output_type": "stream",
          "text": [
            "Epoch 17, Training Loss: 0.00011906060603046854, Training Accuracy: 0.9717557796594044\n"
          ]
        },
        {
          "name": "stderr",
          "output_type": "stream",
          "text": [
            "100%|██████████| 7/7 [00:13<00:00,  1.97s/it]\n"
          ]
        },
        {
          "name": "stdout",
          "output_type": "stream",
          "text": [
            "Улучшений не обнаружено, счетчик терпения 1/20\n",
            "Validation Loss: 1.3636535917009627, Validation Accuracy: 0.6379310344827587\n"
          ]
        },
        {
          "name": "stderr",
          "output_type": "stream",
          "text": [
            "100%|██████████| 281/281 [01:13<00:00,  3.80it/s]\n"
          ]
        },
        {
          "name": "stdout",
          "output_type": "stream",
          "text": [
            "Epoch 18, Training Loss: 0.00011432820692686423, Training Accuracy: 0.9721482256683475\n"
          ]
        },
        {
          "name": "stderr",
          "output_type": "stream",
          "text": [
            "100%|██████████| 7/7 [00:13<00:00,  1.96s/it]\n"
          ]
        },
        {
          "name": "stdout",
          "output_type": "stream",
          "text": [
            "Улучшений не обнаружено, счетчик терпения 2/20\n",
            "Validation Loss: 1.3788460663386755, Validation Accuracy: 0.6395474137931034\n"
          ]
        },
        {
          "name": "stderr",
          "output_type": "stream",
          "text": [
            "100%|██████████| 281/281 [01:14<00:00,  3.78it/s]\n"
          ]
        },
        {
          "name": "stdout",
          "output_type": "stream",
          "text": [
            "Epoch 19, Training Loss: 0.0001340344836389597, Training Accuracy: 0.9683307963086291\n"
          ]
        },
        {
          "name": "stderr",
          "output_type": "stream",
          "text": [
            "100%|██████████| 7/7 [00:13<00:00,  1.96s/it]\n"
          ]
        },
        {
          "name": "stdout",
          "output_type": "stream",
          "text": [
            "Улучшений не обнаружено, счетчик терпения 3/20\n",
            "Validation Loss: 1.472110961164747, Validation Accuracy: 0.6379310344827587\n"
          ]
        },
        {
          "name": "stderr",
          "output_type": "stream",
          "text": [
            "100%|██████████| 281/281 [01:14<00:00,  3.78it/s]\n"
          ]
        },
        {
          "name": "stdout",
          "output_type": "stream",
          "text": [
            "Epoch 20, Training Loss: 0.00012023553054011743, Training Accuracy: 0.9710779183712301\n"
          ]
        },
        {
          "name": "stderr",
          "output_type": "stream",
          "text": [
            "100%|██████████| 7/7 [00:14<00:00,  2.01s/it]\n"
          ]
        },
        {
          "name": "stdout",
          "output_type": "stream",
          "text": [
            "Model improved and saved.\n",
            "Validation Loss: 1.335963683468955, Validation Accuracy: 0.6573275862068966\n"
          ]
        },
        {
          "name": "stderr",
          "output_type": "stream",
          "text": [
            "100%|██████████| 281/281 [01:13<00:00,  3.80it/s]\n"
          ]
        },
        {
          "name": "stdout",
          "output_type": "stream",
          "text": [
            "Epoch 21, Training Loss: 0.0001145841439629202, Training Accuracy: 0.9728855484730282\n"
          ]
        },
        {
          "name": "stderr",
          "output_type": "stream",
          "text": [
            "100%|██████████| 7/7 [00:13<00:00,  1.95s/it]\n"
          ]
        },
        {
          "name": "stdout",
          "output_type": "stream",
          "text": [
            "Улучшений не обнаружено, счетчик терпения 1/20\n",
            "Validation Loss: 1.4027246236801147, Validation Accuracy: 0.630926724137931\n"
          ]
        },
        {
          "name": "stderr",
          "output_type": "stream",
          "text": [
            "100%|██████████| 281/281 [01:13<00:00,  3.81it/s]\n"
          ]
        },
        {
          "name": "stdout",
          "output_type": "stream",
          "text": [
            "Epoch 22, Training Loss: 9.847747204138065e-05, Training Accuracy: 0.9750380553705642\n"
          ]
        },
        {
          "name": "stderr",
          "output_type": "stream",
          "text": [
            "100%|██████████| 7/7 [00:13<00:00,  1.95s/it]\n"
          ]
        },
        {
          "name": "stdout",
          "output_type": "stream",
          "text": [
            "Улучшений не обнаружено, счетчик терпения 2/20\n",
            "Validation Loss: 1.426860851900918, Validation Accuracy: 0.6438577586206896\n"
          ]
        },
        {
          "name": "stderr",
          "output_type": "stream",
          "text": [
            "100%|██████████| 281/281 [01:14<00:00,  3.77it/s]\n"
          ]
        },
        {
          "name": "stdout",
          "output_type": "stream",
          "text": [
            "Epoch 23, Training Loss: 8.10335083055581e-05, Training Accuracy: 0.9795571306250594\n"
          ]
        },
        {
          "name": "stderr",
          "output_type": "stream",
          "text": [
            "100%|██████████| 7/7 [00:13<00:00,  1.99s/it]\n"
          ]
        },
        {
          "name": "stdout",
          "output_type": "stream",
          "text": [
            "Улучшений не обнаружено, счетчик терпения 3/20\n",
            "Validation Loss: 1.4983519656317574, Validation Accuracy: 0.6320043103448276\n"
          ]
        },
        {
          "name": "stderr",
          "output_type": "stream",
          "text": [
            "100%|██████████| 281/281 [01:13<00:00,  3.81it/s]\n"
          ]
        },
        {
          "name": "stdout",
          "output_type": "stream",
          "text": [
            "Epoch 24, Training Loss: 0.00010724626635040458, Training Accuracy: 0.9736228712777091\n"
          ]
        },
        {
          "name": "stderr",
          "output_type": "stream",
          "text": [
            "100%|██████████| 7/7 [00:13<00:00,  1.98s/it]\n"
          ]
        },
        {
          "name": "stdout",
          "output_type": "stream",
          "text": [
            "Улучшений не обнаружено, счетчик терпения 4/20\n",
            "Validation Loss: 1.408279470035008, Validation Accuracy: 0.650323275862069\n"
          ]
        },
        {
          "name": "stderr",
          "output_type": "stream",
          "text": [
            "100%|██████████| 281/281 [01:13<00:00,  3.80it/s]\n"
          ]
        },
        {
          "name": "stdout",
          "output_type": "stream",
          "text": [
            "Epoch 25, Training Loss: 0.00011000225882255652, Training Accuracy: 0.9736942250975169\n"
          ]
        },
        {
          "name": "stderr",
          "output_type": "stream",
          "text": [
            "100%|██████████| 7/7 [00:13<00:00,  1.97s/it]\n"
          ]
        },
        {
          "name": "stdout",
          "output_type": "stream",
          "text": [
            "Model improved and saved.\n",
            "Validation Loss: 1.434317605836051, Validation Accuracy: 0.6530172413793104\n"
          ]
        },
        {
          "name": "stderr",
          "output_type": "stream",
          "text": [
            "100%|██████████| 281/281 [01:14<00:00,  3.78it/s]\n"
          ]
        },
        {
          "name": "stdout",
          "output_type": "stream",
          "text": [
            "Epoch 26, Training Loss: 8.218039127040859e-05, Training Accuracy: 0.9795571306250594\n"
          ]
        },
        {
          "name": "stderr",
          "output_type": "stream",
          "text": [
            "100%|██████████| 7/7 [00:14<00:00,  2.02s/it]\n"
          ]
        },
        {
          "name": "stdout",
          "output_type": "stream",
          "text": [
            "Epoch 00026: reducing learning rate of group 0 to 5.0000e-04.\n",
            "Model improved and saved.\n",
            "Validation Loss: 1.3581961052758353, Validation Accuracy: 0.6481681034482759\n"
          ]
        },
        {
          "name": "stderr",
          "output_type": "stream",
          "text": [
            "100%|██████████| 281/281 [01:13<00:00,  3.80it/s]\n"
          ]
        },
        {
          "name": "stdout",
          "output_type": "stream",
          "text": [
            "Epoch 27, Training Loss: 1.8215377184726592e-05, Training Accuracy: 0.9951836171629721\n"
          ]
        },
        {
          "name": "stderr",
          "output_type": "stream",
          "text": [
            "100%|██████████| 7/7 [00:13<00:00,  1.95s/it]\n"
          ]
        },
        {
          "name": "stdout",
          "output_type": "stream",
          "text": [
            "Model improved and saved.\n",
            "Validation Loss: 1.2930694818496704, Validation Accuracy: 0.6891163793103449\n"
          ]
        },
        {
          "name": "stderr",
          "output_type": "stream",
          "text": [
            "100%|██████████| 281/281 [01:13<00:00,  3.80it/s]\n"
          ]
        },
        {
          "name": "stdout",
          "output_type": "stream",
          "text": [
            "Epoch 28, Training Loss: 3.0949634303465217e-06, Training Accuracy: 0.9991675387689087\n"
          ]
        },
        {
          "name": "stderr",
          "output_type": "stream",
          "text": [
            "100%|██████████| 7/7 [00:13<00:00,  1.95s/it]\n"
          ]
        },
        {
          "name": "stdout",
          "output_type": "stream",
          "text": [
            "Model improved and saved.\n",
            "Validation Loss: 1.2575228640011378, Validation Accuracy: 0.6901939655172413\n"
          ]
        },
        {
          "name": "stderr",
          "output_type": "stream",
          "text": [
            "100%|██████████| 281/281 [01:14<00:00,  3.77it/s]\n"
          ]
        },
        {
          "name": "stdout",
          "output_type": "stream",
          "text": [
            "Epoch 29, Training Loss: 1.6139508515838808e-06, Training Accuracy: 0.9996075539910569\n"
          ]
        },
        {
          "name": "stderr",
          "output_type": "stream",
          "text": [
            "100%|██████████| 7/7 [00:13<00:00,  1.96s/it]\n"
          ]
        },
        {
          "name": "stdout",
          "output_type": "stream",
          "text": [
            "Улучшений не обнаружено, счетчик терпения 1/20\n",
            "Validation Loss: 1.2696221470832825, Validation Accuracy: 0.6837284482758621\n"
          ]
        },
        {
          "name": "stderr",
          "output_type": "stream",
          "text": [
            "100%|██████████| 281/281 [01:13<00:00,  3.80it/s]\n"
          ]
        },
        {
          "name": "stdout",
          "output_type": "stream",
          "text": [
            "Epoch 30, Training Loss: 1.0711272338273394e-06, Training Accuracy: 0.9997502616306726\n"
          ]
        },
        {
          "name": "stderr",
          "output_type": "stream",
          "text": [
            "100%|██████████| 7/7 [00:14<00:00,  2.00s/it]\n"
          ]
        },
        {
          "name": "stdout",
          "output_type": "stream",
          "text": [
            "Model improved and saved.\n",
            "Validation Loss: 1.2532473632267542, Validation Accuracy: 0.6901939655172413\n"
          ]
        },
        {
          "name": "stderr",
          "output_type": "stream",
          "text": [
            "100%|██████████| 281/281 [01:14<00:00,  3.80it/s]\n"
          ]
        },
        {
          "name": "stdout",
          "output_type": "stream",
          "text": [
            "Epoch 31, Training Loss: 1.094264955557348e-06, Training Accuracy: 0.9998216154504804\n"
          ]
        },
        {
          "name": "stderr",
          "output_type": "stream",
          "text": [
            "100%|██████████| 7/7 [00:13<00:00,  1.99s/it]\n"
          ]
        },
        {
          "name": "stdout",
          "output_type": "stream",
          "text": [
            "Model improved and saved.\n",
            "Validation Loss: 1.2473591140338354, Validation Accuracy: 0.6923491379310345\n"
          ]
        },
        {
          "name": "stderr",
          "output_type": "stream",
          "text": [
            "100%|██████████| 281/281 [01:14<00:00,  3.77it/s]\n"
          ]
        },
        {
          "name": "stdout",
          "output_type": "stream",
          "text": [
            "Epoch 32, Training Loss: 1.0586192219170494e-06, Training Accuracy: 0.9997026924174675\n"
          ]
        },
        {
          "name": "stderr",
          "output_type": "stream",
          "text": [
            "100%|██████████| 7/7 [00:13<00:00,  1.97s/it]\n"
          ]
        },
        {
          "name": "stdout",
          "output_type": "stream",
          "text": [
            "Model improved and saved.\n",
            "Validation Loss: 1.2643856746809823, Validation Accuracy: 0.6901939655172413\n"
          ]
        },
        {
          "name": "stderr",
          "output_type": "stream",
          "text": [
            "100%|██████████| 281/281 [01:14<00:00,  3.75it/s]\n"
          ]
        },
        {
          "name": "stdout",
          "output_type": "stream",
          "text": [
            "Epoch 33, Training Loss: 4.453511195841562e-06, Training Accuracy: 0.9987275235467605\n"
          ]
        },
        {
          "name": "stderr",
          "output_type": "stream",
          "text": [
            "100%|██████████| 7/7 [00:13<00:00,  1.99s/it]\n"
          ]
        },
        {
          "name": "stdout",
          "output_type": "stream",
          "text": [
            "Улучшений не обнаружено, счетчик терпения 1/20\n",
            "Validation Loss: 1.2990732448441642, Validation Accuracy: 0.6761853448275862\n"
          ]
        },
        {
          "name": "stderr",
          "output_type": "stream",
          "text": [
            "100%|██████████| 281/281 [01:14<00:00,  3.78it/s]\n"
          ]
        },
        {
          "name": "stdout",
          "output_type": "stream",
          "text": [
            "Epoch 34, Training Loss: 1.2390427244349794e-05, Training Accuracy: 0.9967534011987442\n"
          ]
        },
        {
          "name": "stderr",
          "output_type": "stream",
          "text": [
            "100%|██████████| 7/7 [00:13<00:00,  1.98s/it]\n"
          ]
        },
        {
          "name": "stdout",
          "output_type": "stream",
          "text": [
            "Улучшений не обнаружено, счетчик терпения 2/20\n",
            "Validation Loss: 1.5841506208692278, Validation Accuracy: 0.6400862068965517\n"
          ]
        },
        {
          "name": "stderr",
          "output_type": "stream",
          "text": [
            "100%|██████████| 281/281 [01:14<00:00,  3.77it/s]\n"
          ]
        },
        {
          "name": "stdout",
          "output_type": "stream",
          "text": [
            "Epoch 35, Training Loss: 9.526079887184538e-05, Training Accuracy: 0.976167824184188\n"
          ]
        },
        {
          "name": "stderr",
          "output_type": "stream",
          "text": [
            "100%|██████████| 7/7 [00:13<00:00,  1.96s/it]\n"
          ]
        },
        {
          "name": "stdout",
          "output_type": "stream",
          "text": [
            "Улучшений не обнаружено, счетчик терпения 3/20\n",
            "Validation Loss: 1.3946749567985535, Validation Accuracy: 0.6734913793103449\n"
          ]
        },
        {
          "name": "stderr",
          "output_type": "stream",
          "text": [
            "100%|██████████| 281/281 [01:14<00:00,  3.79it/s]\n"
          ]
        },
        {
          "name": "stdout",
          "output_type": "stream",
          "text": [
            "Epoch 36, Training Loss: 2.5727844409634723e-05, Training Accuracy: 0.9932689563314623\n"
          ]
        },
        {
          "name": "stderr",
          "output_type": "stream",
          "text": [
            "100%|██████████| 7/7 [00:13<00:00,  1.94s/it]\n"
          ]
        },
        {
          "name": "stdout",
          "output_type": "stream",
          "text": [
            "Улучшений не обнаружено, счетчик терпения 4/20\n",
            "Validation Loss: 1.426595824105399, Validation Accuracy: 0.662176724137931\n"
          ]
        },
        {
          "name": "stderr",
          "output_type": "stream",
          "text": [
            "100%|██████████| 281/281 [01:14<00:00,  3.78it/s]\n"
          ]
        },
        {
          "name": "stdout",
          "output_type": "stream",
          "text": [
            "Epoch 37, Training Loss: 1.534562248301181e-05, Training Accuracy: 0.9960398630006659\n"
          ]
        },
        {
          "name": "stderr",
          "output_type": "stream",
          "text": [
            "100%|██████████| 7/7 [00:14<00:00,  2.00s/it]\n"
          ]
        },
        {
          "name": "stdout",
          "output_type": "stream",
          "text": [
            "Epoch 00037: reducing learning rate of group 0 to 2.5000e-04.\n",
            "Улучшений не обнаружено, счетчик терпения 5/20\n",
            "Validation Loss: 1.4077669382095337, Validation Accuracy: 0.677801724137931\n"
          ]
        },
        {
          "name": "stderr",
          "output_type": "stream",
          "text": [
            "100%|██████████| 281/281 [01:13<00:00,  3.81it/s]\n"
          ]
        },
        {
          "name": "stdout",
          "output_type": "stream",
          "text": [
            "Epoch 38, Training Loss: 4.014447025879495e-06, Training Accuracy: 0.9988940157929788\n"
          ]
        },
        {
          "name": "stderr",
          "output_type": "stream",
          "text": [
            "100%|██████████| 7/7 [00:13<00:00,  1.98s/it]"
          ]
        },
        {
          "name": "stdout",
          "output_type": "stream",
          "text": [
            "Model improved and saved.\n"
          ]
        },
        {
          "name": "stderr",
          "output_type": "stream",
          "text": [
            "\n"
          ]
        },
        {
          "name": "stdout",
          "output_type": "stream",
          "text": [
            "Validation Loss: 1.3213742630822318, Validation Accuracy: 0.6896551724137931\n"
          ]
        },
        {
          "name": "stderr",
          "output_type": "stream",
          "text": [
            "100%|██████████| 281/281 [01:13<00:00,  3.81it/s]\n"
          ]
        },
        {
          "name": "stdout",
          "output_type": "stream",
          "text": [
            "Epoch 39, Training Loss: 1.1121491865273394e-06, Training Accuracy: 0.9997383693273714\n"
          ]
        },
        {
          "name": "stderr",
          "output_type": "stream",
          "text": [
            "100%|██████████| 7/7 [00:13<00:00,  1.96s/it]"
          ]
        },
        {
          "name": "stdout",
          "output_type": "stream",
          "text": [
            "Model improved and saved.\n"
          ]
        },
        {
          "name": "stderr",
          "output_type": "stream",
          "text": [
            "\n"
          ]
        },
        {
          "name": "stdout",
          "output_type": "stream",
          "text": [
            "Validation Loss: 1.3290532401629858, Validation Accuracy: 0.6945043103448276\n"
          ]
        },
        {
          "name": "stderr",
          "output_type": "stream",
          "text": [
            "100%|██████████| 281/281 [01:13<00:00,  3.80it/s]\n"
          ]
        },
        {
          "name": "stdout",
          "output_type": "stream",
          "text": [
            "Epoch 40, Training Loss: 8.390127269592578e-07, Training Accuracy: 0.9996908001141661\n"
          ]
        },
        {
          "name": "stderr",
          "output_type": "stream",
          "text": [
            "100%|██████████| 7/7 [00:13<00:00,  1.94s/it]\n"
          ]
        },
        {
          "name": "stdout",
          "output_type": "stream",
          "text": [
            "Model improved and saved.\n",
            "Validation Loss: 1.3257375529834203, Validation Accuracy: 0.693426724137931\n"
          ]
        },
        {
          "name": "stderr",
          "output_type": "stream",
          "text": [
            "100%|██████████| 281/281 [01:13<00:00,  3.80it/s]\n"
          ]
        },
        {
          "name": "stdout",
          "output_type": "stream",
          "text": [
            "Epoch 41, Training Loss: 8.629708955227731e-07, Training Accuracy: 0.99972647702407\n"
          ]
        },
        {
          "name": "stderr",
          "output_type": "stream",
          "text": [
            "100%|██████████| 7/7 [00:13<00:00,  1.97s/it]\n"
          ]
        },
        {
          "name": "stdout",
          "output_type": "stream",
          "text": [
            "Model improved and saved.\n",
            "Validation Loss: 1.3279753242220198, Validation Accuracy: 0.6950431034482759\n"
          ]
        },
        {
          "name": "stderr",
          "output_type": "stream",
          "text": [
            "100%|██████████| 281/281 [01:14<00:00,  3.79it/s]\n"
          ]
        },
        {
          "name": "stdout",
          "output_type": "stream",
          "text": [
            "Epoch 42, Training Loss: 4.2702775965211505e-07, Training Accuracy: 0.9998572923603843\n"
          ]
        },
        {
          "name": "stderr",
          "output_type": "stream",
          "text": [
            "100%|██████████| 7/7 [00:13<00:00,  1.99s/it]"
          ]
        },
        {
          "name": "stdout",
          "output_type": "stream",
          "text": [
            "Model improved and saved.\n"
          ]
        },
        {
          "name": "stderr",
          "output_type": "stream",
          "text": [
            "\n"
          ]
        },
        {
          "name": "stdout",
          "output_type": "stream",
          "text": [
            "Validation Loss: 1.3276442800249373, Validation Accuracy: 0.6977370689655172\n"
          ]
        },
        {
          "name": "stderr",
          "output_type": "stream",
          "text": [
            "100%|██████████| 281/281 [01:13<00:00,  3.81it/s]\n"
          ]
        },
        {
          "name": "stdout",
          "output_type": "stream",
          "text": [
            "Epoch 43, Training Loss: 4.274677433810547e-07, Training Accuracy: 0.9998929692702883\n"
          ]
        },
        {
          "name": "stderr",
          "output_type": "stream",
          "text": [
            "100%|██████████| 7/7 [00:13<00:00,  1.98s/it]\n"
          ]
        },
        {
          "name": "stdout",
          "output_type": "stream",
          "text": [
            "Model improved and saved.\n",
            "Validation Loss: 1.344116985797882, Validation Accuracy: 0.6955818965517241\n"
          ]
        },
        {
          "name": "stderr",
          "output_type": "stream",
          "text": [
            "100%|██████████| 281/281 [01:13<00:00,  3.81it/s]\n"
          ]
        },
        {
          "name": "stdout",
          "output_type": "stream",
          "text": [
            "Epoch 44, Training Loss: 5.942298316617937e-07, Training Accuracy: 0.9998572923603843\n"
          ]
        },
        {
          "name": "stderr",
          "output_type": "stream",
          "text": [
            "100%|██████████| 7/7 [00:13<00:00,  1.94s/it]\n"
          ]
        },
        {
          "name": "stdout",
          "output_type": "stream",
          "text": [
            "Model improved and saved.\n",
            "Validation Loss: 1.3594207678522383, Validation Accuracy: 0.6950431034482759\n"
          ]
        },
        {
          "name": "stderr",
          "output_type": "stream",
          "text": [
            "100%|██████████| 281/281 [01:14<00:00,  3.80it/s]\n"
          ]
        },
        {
          "name": "stdout",
          "output_type": "stream",
          "text": [
            "Epoch 45, Training Loss: 5.867708013076914e-07, Training Accuracy: 0.9997621539339739\n"
          ]
        },
        {
          "name": "stderr",
          "output_type": "stream",
          "text": [
            "100%|██████████| 7/7 [00:13<00:00,  1.99s/it]\n"
          ]
        },
        {
          "name": "stdout",
          "output_type": "stream",
          "text": [
            "Model improved and saved.\n",
            "Validation Loss: 1.3335337894303458, Validation Accuracy: 0.6988146551724138\n"
          ]
        },
        {
          "name": "stderr",
          "output_type": "stream",
          "text": [
            "100%|██████████| 281/281 [01:14<00:00,  3.79it/s]\n"
          ]
        },
        {
          "name": "stdout",
          "output_type": "stream",
          "text": [
            "Epoch 46, Training Loss: 3.912596065464125e-07, Training Accuracy: 0.9998691846636857\n"
          ]
        },
        {
          "name": "stderr",
          "output_type": "stream",
          "text": [
            "100%|██████████| 7/7 [00:13<00:00,  1.96s/it]\n"
          ]
        },
        {
          "name": "stdout",
          "output_type": "stream",
          "text": [
            "Улучшений не обнаружено, счетчик терпения 1/20\n",
            "Validation Loss: 1.3362805162157332, Validation Accuracy: 0.693426724137931\n"
          ]
        },
        {
          "name": "stderr",
          "output_type": "stream",
          "text": [
            "100%|██████████| 281/281 [01:13<00:00,  3.81it/s]\n"
          ]
        },
        {
          "name": "stdout",
          "output_type": "stream",
          "text": [
            "Epoch 47, Training Loss: 5.444355114373879e-07, Training Accuracy: 0.9998335077537818\n"
          ]
        },
        {
          "name": "stderr",
          "output_type": "stream",
          "text": [
            "100%|██████████| 7/7 [00:13<00:00,  1.99s/it]\n"
          ]
        },
        {
          "name": "stdout",
          "output_type": "stream",
          "text": [
            "Model improved and saved.\n",
            "Validation Loss: 1.349464041846139, Validation Accuracy: 0.6945043103448276\n"
          ]
        },
        {
          "name": "stderr",
          "output_type": "stream",
          "text": [
            "100%|██████████| 281/281 [01:14<00:00,  3.79it/s]\n"
          ]
        },
        {
          "name": "stdout",
          "output_type": "stream",
          "text": [
            "Epoch 48, Training Loss: 5.797326292029272e-07, Training Accuracy: 0.9998454000570831\n"
          ]
        },
        {
          "name": "stderr",
          "output_type": "stream",
          "text": [
            "100%|██████████| 7/7 [00:13<00:00,  1.96s/it]\n"
          ]
        },
        {
          "name": "stdout",
          "output_type": "stream",
          "text": [
            "Model improved and saved.\n",
            "Validation Loss: 1.3602440527507238, Validation Accuracy: 0.6918103448275862\n"
          ]
        },
        {
          "name": "stderr",
          "output_type": "stream",
          "text": [
            "100%|██████████| 281/281 [01:14<00:00,  3.79it/s]\n"
          ]
        },
        {
          "name": "stdout",
          "output_type": "stream",
          "text": [
            "Epoch 49, Training Loss: 4.5591468309902684e-07, Training Accuracy: 0.9998810769669869\n"
          ]
        },
        {
          "name": "stderr",
          "output_type": "stream",
          "text": [
            "100%|██████████| 7/7 [00:13<00:00,  1.99s/it]\n"
          ]
        },
        {
          "name": "stdout",
          "output_type": "stream",
          "text": [
            "Model improved and saved.\n",
            "Validation Loss: 1.3439319389207023, Validation Accuracy: 0.6939655172413793\n"
          ]
        },
        {
          "name": "stderr",
          "output_type": "stream",
          "text": [
            "100%|██████████| 281/281 [01:13<00:00,  3.80it/s]\n"
          ]
        },
        {
          "name": "stdout",
          "output_type": "stream",
          "text": [
            "Epoch 50, Training Loss: 3.220443370277163e-07, Training Accuracy: 0.9998810769669869\n"
          ]
        },
        {
          "name": "stderr",
          "output_type": "stream",
          "text": [
            "100%|██████████| 7/7 [00:13<00:00,  1.95s/it]"
          ]
        },
        {
          "name": "stdout",
          "output_type": "stream",
          "text": [
            "Model improved and saved.\n",
            "Validation Loss: 1.3450254883084978, Validation Accuracy: 0.6977370689655172\n"
          ]
        },
        {
          "name": "stderr",
          "output_type": "stream",
          "text": [
            "\n"
          ]
        }
      ],
      "source": [
        "NUM_EPOCH = 50\n",
        "trainer.train(train_loader, NUM_EPOCH, test_loader)"
      ]
    },
    {
      "cell_type": "markdown",
      "source": [
        "# Графики"
      ],
      "metadata": {
        "id": "LAFNyreFu88e"
      },
      "id": "LAFNyreFu88e"
    },
    {
      "cell_type": "code",
      "execution_count": null,
      "id": "e573ea63-18f9-422d-9299-347c6e6d4f4e",
      "metadata": {
        "execution": {
          "iopub.execute_input": "2024-12-19T16:10:02.357333Z",
          "iopub.status.busy": "2024-12-19T16:10:02.356197Z",
          "iopub.status.idle": "2024-12-19T16:10:02.726031Z",
          "shell.execute_reply": "2024-12-19T16:10:02.724911Z",
          "shell.execute_reply.started": "2024-12-19T16:10:02.357308Z"
        },
        "tags": [],
        "id": "e573ea63-18f9-422d-9299-347c6e6d4f4e",
        "outputId": "8cb8ca3c-2087-4306-fa58-519c12092159"
      },
      "outputs": [
        {
          "data": {
            "image/png": "[encoded data removed]",
            "text/plain": [
              "<Figure size 1000x600 with 1 Axes>"
            ]
          },
          "metadata": {},
          "output_type": "display_data"
        }
      ],
      "source": [
        "import numpy as np\n",
        "\n",
        "plt.figure(figsize=(10, 6))\n",
        "\n",
        "plt.plot(np.arange(50), trainer.train_losses, label='Train Loss', color='blue', marker='o')\n",
        "plt.plot(np.arange(50), trainer.val_losses, label='Validation Loss', color='red', marker='o')\n",
        "\n",
        "plt.title('Train Loss vs Validation Loss')\n",
        "plt.xlabel('Epochs')\n",
        "plt.ylabel('Loss')\n",
        "plt.xticks(np.arange(50))\n",
        "plt.grid(True)\n",
        "\n",
        "plt.legend()\n",
        "plt.xticks(np.arange(50), rotation=90)\n",
        "plt.show()"
      ]
    },
    {
      "cell_type": "code",
      "execution_count": null,
      "id": "122af2fe-3f19-4683-9390-d4f46a111d37",
      "metadata": {
        "execution": {
          "iopub.execute_input": "2024-12-19T16:10:45.134064Z",
          "iopub.status.busy": "2024-12-19T16:10:45.133532Z",
          "iopub.status.idle": "2024-12-19T16:10:45.467406Z",
          "shell.execute_reply": "2024-12-19T16:10:45.466692Z",
          "shell.execute_reply.started": "2024-12-19T16:10:45.134041Z"
        },
        "id": "122af2fe-3f19-4683-9390-d4f46a111d37",
        "outputId": "c2042a34-0f95-4e51-a281-89810323a884"
      },
      "outputs": [
        {
          "data": {
            "image/png": "[encoded data removed]",
            "text/plain": [
              "<Figure size 1000x600 with 1 Axes>"
            ]
          },
          "metadata": {},
          "output_type": "display_data"
        }
      ],
      "source": [
        "import numpy as np\n",
        "\n",
        "plt.figure(figsize=(10, 6))\n",
        "\n",
        "plt.plot(np.arange(50), trainer.train_accuracies, label='Train Loss', color='blue', marker='o')\n",
        "plt.plot(np.arange(50), trainer.val_accuracies, label='Validation Loss', color='red', marker='o')\n",
        "\n",
        "plt.title('Train Loss vs Validation Loss')\n",
        "plt.xlabel('Epochs')\n",
        "plt.ylabel('Loss')\n",
        "plt.xticks(np.arange(50))\n",
        "plt.grid(True)\n",
        "\n",
        "plt.legend()\n",
        "plt.xticks(np.arange(50), rotation=90)\n",
        "plt.show()"
      ]
    },
    {
      "cell_type": "code",
      "execution_count": null,
      "id": "b0bc0f75-3970-43c0-87cf-958acc898f57",
      "metadata": {
        "execution": {
          "iopub.execute_input": "2024-12-19T16:02:11.316586Z",
          "iopub.status.busy": "2024-12-19T16:02:11.316207Z",
          "iopub.status.idle": "2024-12-19T16:02:11.338758Z",
          "shell.execute_reply": "2024-12-19T16:02:11.338038Z",
          "shell.execute_reply.started": "2024-12-19T16:02:11.316561Z"
        },
        "tags": [],
        "id": "b0bc0f75-3970-43c0-87cf-958acc898f57"
      },
      "outputs": [],
      "source": [
        "# PATH = \"mobileV2.pt\"\n",
        "# print('Model improved and saved.')\n",
        "# torch.save(trainer.model.state_dict(), PATH)"
      ]
    },
    {
      "cell_type": "code",
      "execution_count": null,
      "id": "2f13e611-64f4-4d5f-b92c-c9a517790db5",
      "metadata": {
        "id": "2f13e611-64f4-4d5f-b92c-c9a517790db5"
      },
      "outputs": [],
      "source": []
    }
  ],
  "metadata": {
    "kernelspec": {
      "display_name": "DataSphere Kernel",
      "language": "python",
      "name": "python3"
    },
    "language_info": {
      "codemirror_mode": {
        "name": "ipython",
        "version": 3
      },
      "file_extension": ".py",
      "mimetype": "text/x-python",
      "name": "python",
      "nbconvert_exporter": "python",
      "pygments_lexer": "ipython3",
      "version": "3.10.12"
    },
    "colab": {
      "provenance": [],
      "toc_visible": true
    }
  },
  "nbformat": 4,
  "nbformat_minor": 5
}