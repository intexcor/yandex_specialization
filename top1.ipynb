{
 "cells": [
  {
   "cell_type": "code",
   "execution_count": 1,
   "id": "59c4297f-5fbf-433d-9cba-2ef51f769995",
   "metadata": {
    "execution": {
     "iopub.execute_input": "2024-12-18T18:41:54.730333Z",
     "iopub.status.busy": "2024-12-18T18:41:54.729125Z",
     "iopub.status.idle": "2024-12-18T18:41:57.141131Z",
     "shell.execute_reply": "2024-12-18T18:41:57.139959Z",
     "shell.execute_reply.started": "2024-12-18T18:41:54.730293Z"
    },
    "tags": []
   },
   "outputs": [],
   "source": [
    "import os\n",
    "\n",
    "from tqdm import tqdm\n",
    "import torch\n",
    "import pandas as pd\n",
    "import torchvision\n",
    "from torchsampler import ImbalancedDatasetSampler\n",
    "import random"
   ]
  },
  {
   "cell_type": "code",
   "execution_count": 2,
   "id": "39035328-f275-4aa8-b988-b78ed387175f",
   "metadata": {
    "execution": {
     "iopub.execute_input": "2024-12-18T18:41:57.144740Z",
     "iopub.status.busy": "2024-12-18T18:41:57.143323Z",
     "iopub.status.idle": "2024-12-18T18:41:57.165304Z",
     "shell.execute_reply": "2024-12-18T18:41:57.164036Z",
     "shell.execute_reply.started": "2024-12-18T18:41:57.144671Z"
    },
    "tags": []
   },
   "outputs": [],
   "source": [
    "# optimizers flags\n",
    "torch.backends.cudnn.benchmark = True\n",
    "\n",
    "# hyberparams\n",
    "BATCH_SIZE = 200\n",
    "NUM_WORKERS = os.cpu_count()"
   ]
  },
  {
   "cell_type": "code",
   "execution_count": 3,
   "id": "0d8a0e87-be6e-4ff6-b253-6b2701645f3a",
   "metadata": {
    "execution": {
     "iopub.execute_input": "2024-12-18T18:41:57.168367Z",
     "iopub.status.busy": "2024-12-18T18:41:57.166887Z",
     "iopub.status.idle": "2024-12-18T18:41:57.201541Z",
     "shell.execute_reply": "2024-12-18T18:41:57.200335Z",
     "shell.execute_reply.started": "2024-12-18T18:41:57.168313Z"
    },
    "tags": []
   },
   "outputs": [],
   "source": [
    "import torch\n",
    "from tqdm import tqdm\n",
    "\n",
    "class Trainer:\n",
    "    def __init__(self, model, loss_fn, optimizer, scheduler=None):\n",
    "        self.model = model\n",
    "        self.loss_fn = loss_fn\n",
    "        self.optimizer = optimizer\n",
    "        self.scheduler = scheduler  \n",
    "        self.train_losses = []\n",
    "        self.val_losses = []\n",
    "        self.train_accuracies = []\n",
    "        self.val_accuracies = []\n",
    "        self.best_accuracy = 0\n",
    "\n",
    "    def train(self, dataloader, epochs, test_loader):\n",
    "        dataloader.dataset.is_augms = True\n",
    "        size = len(dataloader.dataset)\n",
    "        \n",
    "        for epoch in range(epochs):\n",
    "            self.model.train()\n",
    "            total_loss = 0\n",
    "            total_accuracy = 0\n",
    "            \n",
    "            for X, y in tqdm(dataloader):\n",
    "                X, y = X.to(device), y.to(device)\n",
    "                self.optimizer.zero_grad(set_to_none=True)\n",
    "                output = self.model(X)\n",
    "                loss = self.loss_fn(output, y)\n",
    "                loss.backward()\n",
    "                self.optimizer.step()\n",
    "\n",
    "                total_loss += loss.item()\n",
    "                total_accuracy += output.argmax(1).eq(y).float().sum().item()\n",
    "\n",
    "            self.train_losses.append(total_loss / size)\n",
    "            self.train_accuracies.append(total_accuracy / size)\n",
    "            print(f\"Epoch {epoch + 1}, Training Loss: {total_loss / size}, Training Accuracy: {total_accuracy / size}\")\n",
    "\n",
    "            self.eval(test_loader)\n",
    "\n",
    "    def eval(self, dataloader):\n",
    "        dataloader.dataset.is_augms = False\n",
    "        self.model.eval()\n",
    "        total_loss = 0\n",
    "        total_accuracy = 0\n",
    "\n",
    "        with torch.no_grad(): \n",
    "            for X, y in tqdm(dataloader):\n",
    "                X, y = X.to(device), y.to(device)\n",
    "                output = self.model(X)\n",
    "                loss = self.loss_fn(output, y)\n",
    "                total_loss += loss.item()\n",
    "                total_accuracy += output.argmax(1).eq(y).float().sum().item()\n",
    "\n",
    "        self.val_losses.append(total_loss / len(dataloader))\n",
    "        self.val_accuracies.append(total_accuracy / len(dataloader.dataset))\n",
    "        \n",
    "        if self.scheduler:\n",
    "            self.scheduler.step(total_accuracy / len(dataloader.dataset))\n",
    "\n",
    "        if self.best_accuracy < total_accuracy / len(dataloader.dataset):\n",
    "            self.best_accuracy = total_accuracy / len(dataloader.dataset)\n",
    "            PATH = \"mobileV2.pt\"\n",
    "            print('Model improved and saved.')\n",
    "            torch.save(self.model.state_dict(), PATH)\n",
    "\n",
    "        print(\n",
    "            f\"Validation Loss: {total_loss / len(dataloader)}, Validation Accuracy: {total_accuracy / len(dataloader.dataset)}\")\n"
   ]
  },
  {
   "cell_type": "code",
   "execution_count": 4,
   "id": "1ed3f42d-3f1d-4679-9bbf-3cf530af1bff",
   "metadata": {
    "execution": {
     "iopub.execute_input": "2024-12-18T18:41:57.205414Z",
     "iopub.status.busy": "2024-12-18T18:41:57.204194Z",
     "iopub.status.idle": "2024-12-18T18:41:57.260743Z",
     "shell.execute_reply": "2024-12-18T18:41:57.259552Z",
     "shell.execute_reply.started": "2024-12-18T18:41:57.205366Z"
    },
    "tags": []
   },
   "outputs": [],
   "source": [
    "import collections\n",
    "import warnings\n",
    "from itertools import repeat\n",
    "from types import FunctionType\n",
    "from typing import Any\n",
    "from typing import Callable, List, Optional, Sequence, Tuple, Union\n",
    "\n",
    "import torch\n",
    "from torch import nn, Tensor\n",
    "\n",
    "\n",
    "def _make_ntuple(x: Any, n: int) -> Tuple[Any, ...]:\n",
    "    \"\"\"\n",
    "    Make n-tuple from input x. If x is an iterable, then we just convert it to tuple.\n",
    "    Otherwise, we will make a tuple of length n, all with value of x.\n",
    "    reference: https://github.com/pytorch/pytorch/blob/master/torch/nn/modules/utils.py#L8\n",
    "\n",
    "    Args:\n",
    "        x (Any): input value\n",
    "        n (int): length of the resulting tuple\n",
    "    \"\"\"\n",
    "    if isinstance(x, collections.abc.Iterable):\n",
    "        return tuple(x)\n",
    "    return tuple(repeat(x, n))\n",
    "\n",
    "def _make_divisible(v: float, divisor: int, min_value: Optional[int] = None) -> int:\n",
    "    \"\"\"\n",
    "    This function is taken from the original tf repo.\n",
    "    It ensures that all layers have a channel number that is divisible by 8\n",
    "    It can be seen here:\n",
    "    https://github.com/tensorflow/models/blob/master/research/slim/nets/mobilenet/mobilenet.py\n",
    "    \"\"\"\n",
    "    if min_value is None:\n",
    "        min_value = divisor\n",
    "    new_v = max(min_value, int(v + divisor / 2) // divisor * divisor)\n",
    "    # Make sure that round down does not go down by more than 10%.\n",
    "    if new_v < 0.9 * v:\n",
    "        new_v += divisor\n",
    "    return new_v\n",
    "\n",
    "\n",
    "def _log_api_usage_once(obj: Any) -> None:\n",
    "\n",
    "    \"\"\"\n",
    "    Logs API usage(module and name) within an organization.\n",
    "    In a large ecosystem, it's often useful to track the PyTorch and\n",
    "    TorchVision APIs usage. This API provides the similar functionality to the\n",
    "    logging module in the Python stdlib. It can be used for debugging purpose\n",
    "    to log which methods are used and by default it is inactive, unless the user\n",
    "    manually subscribes a logger via the `SetAPIUsageLogger method <https://github.com/pytorch/pytorch/blob/eb3b9fe719b21fae13c7a7cf3253f970290a573e/c10/util/Logging.cpp#L114>`_.\n",
    "    Please note it is triggered only once for the same API call within a process.\n",
    "    It does not collect any data from open-source users since it is no-op by default.\n",
    "    For more information, please refer to\n",
    "    * PyTorch note: https://pytorch.org/docs/stable/notes/large_scale_deployments.html#api-usage-logging;\n",
    "    * Logging policy: https://github.com/pytorch/vision/issues/5052;\n",
    "\n",
    "    Args:\n",
    "        obj (class instance or method): an object to extract info from.\n",
    "    \"\"\"\n",
    "    module = obj.__module__\n",
    "    if not module.startswith(\"torchvision\"):\n",
    "        module = f\"torchvision.internal.{module}\"\n",
    "    name = obj.__class__.__name__\n",
    "    if isinstance(obj, FunctionType):\n",
    "        name = obj.__name__\n",
    "    torch._C._log_api_usage_once(f\"{module}.{name}\")\n",
    "\n",
    "\n",
    "class ConvNormActivation(torch.nn.Sequential):\n",
    "    def __init__(\n",
    "        self,\n",
    "        in_channels: int,\n",
    "        out_channels: int,\n",
    "        kernel_size: Union[int, Tuple[int, ...]] = 3,\n",
    "        stride: Union[int, Tuple[int, ...]] = 1,\n",
    "        padding: Optional[Union[int, Tuple[int, ...], str]] = None,\n",
    "        groups: int = 1,\n",
    "        norm_layer: Optional[Callable[..., torch.nn.Module]] = torch.nn.BatchNorm2d,\n",
    "        activation_layer: Optional[Callable[..., torch.nn.Module]] = torch.nn.ReLU,\n",
    "        dilation: Union[int, Tuple[int, ...]] = 1,\n",
    "        inplace: Optional[bool] = True,\n",
    "        bias: Optional[bool] = None,\n",
    "        conv_layer: Callable[..., torch.nn.Module] = torch.nn.Conv2d,\n",
    "    ) -> None:\n",
    "\n",
    "        if padding is None:\n",
    "            if isinstance(kernel_size, int) and isinstance(dilation, int):\n",
    "                padding = (kernel_size - 1) // 2 * dilation\n",
    "            else:\n",
    "                _conv_dim = len(kernel_size) if isinstance(kernel_size, Sequence) else len(dilation)\n",
    "                kernel_size = _make_ntuple(kernel_size, _conv_dim)\n",
    "                dilation = _make_ntuple(dilation, _conv_dim)\n",
    "                padding = tuple((kernel_size[i] - 1) // 2 * dilation[i] for i in range(_conv_dim))\n",
    "        if bias is None:\n",
    "            bias = norm_layer is None\n",
    "\n",
    "        layers = [\n",
    "            conv_layer(\n",
    "                in_channels,\n",
    "                out_channels,\n",
    "                kernel_size,\n",
    "                stride,\n",
    "                padding,\n",
    "                dilation=dilation,\n",
    "                groups=groups,\n",
    "                bias=bias,\n",
    "            )\n",
    "        ]\n",
    "\n",
    "        if norm_layer is not None:\n",
    "            layers.append(norm_layer(out_channels))\n",
    "\n",
    "        if activation_layer is not None:\n",
    "            params = {} if inplace is None else {\"inplace\": inplace}\n",
    "            layers.append(activation_layer(**params))\n",
    "        super().__init__(*layers)\n",
    "        _log_api_usage_once(self)\n",
    "        self.out_channels = out_channels\n",
    "\n",
    "        if self.__class__ == ConvNormActivation:\n",
    "            warnings.warn(\n",
    "                \"Don't use ConvNormActivation directly, please use Conv2dNormActivation and Conv3dNormActivation instead.\"\n",
    "            )\n",
    "\n",
    "\n",
    "class Conv2dNormActivation(ConvNormActivation):\n",
    "    \"\"\"\n",
    "    Configurable block used for Convolution2d-Normalization-Activation blocks.\n",
    "\n",
    "    Args:\n",
    "        in_channels (int): Number of channels in the input image\n",
    "        out_channels (int): Number of channels produced by the Convolution-Normalization-Activation block\n",
    "        kernel_size: (int, optional): Size of the convolving kernel. Default: 3\n",
    "        stride (int, optional): Stride of the convolution. Default: 1\n",
    "        padding (int, tuple or str, optional): Padding added to all four sides of the input. Default: None, in which case it will be calculated as ``padding = (kernel_size - 1) // 2 * dilation``\n",
    "        groups (int, optional): Number of blocked connections from input channels to output channels. Default: 1\n",
    "        norm_layer (Callable[..., torch.nn.Module], optional): Norm layer that will be stacked on top of the convolution layer. If ``None`` this layer won't be used. Default: ``torch.nn.BatchNorm2d``\n",
    "        activation_layer (Callable[..., torch.nn.Module], optional): Activation function which will be stacked on top of the normalization layer (if not None), otherwise on top of the conv layer. If ``None`` this layer won't be used. Default: ``torch.nn.ReLU``\n",
    "        dilation (int): Spacing between kernel elements. Default: 1\n",
    "        inplace (bool): Parameter for the activation layer, which can optionally do the operation in-place. Default ``True``\n",
    "        bias (bool, optional): Whether to use bias in the convolution layer. By default, biases are included if ``norm_layer is None``.\n",
    "\n",
    "    \"\"\"\n",
    "\n",
    "    def __init__(\n",
    "        self,\n",
    "        in_channels: int,\n",
    "        out_channels: int,\n",
    "        kernel_size: Union[int, Tuple[int, int]] = 3,\n",
    "        stride: Union[int, Tuple[int, int]] = 1,\n",
    "        padding: Optional[Union[int, Tuple[int, int], str]] = None,\n",
    "        groups: int = 1,\n",
    "        norm_layer: Optional[Callable[..., torch.nn.Module]] = torch.nn.BatchNorm2d,\n",
    "        activation_layer: Optional[Callable[..., torch.nn.Module]] = torch.nn.ReLU,\n",
    "        dilation: Union[int, Tuple[int, int]] = 1,\n",
    "        inplace: Optional[bool] = True,\n",
    "        bias: Optional[bool] = None,\n",
    "    ) -> None:\n",
    "\n",
    "        super().__init__(\n",
    "            in_channels,\n",
    "            out_channels,\n",
    "            kernel_size,\n",
    "            stride,\n",
    "            padding,\n",
    "            groups,\n",
    "            norm_layer,\n",
    "            activation_layer,\n",
    "            dilation,\n",
    "            inplace,\n",
    "            bias,\n",
    "            torch.nn.Conv2d,\n",
    "        )\n",
    "\n",
    "\n",
    "class InvertedResidual(nn.Module):\n",
    "    def __init__(\n",
    "        self, inp: int, oup: int, stride: int, expand_ratio: int, norm_layer: Optional[Callable[..., nn.Module]] = None\n",
    "    ) -> None:\n",
    "        super().__init__()\n",
    "        self.stride = stride\n",
    "        if stride not in [1, 2]:\n",
    "            raise ValueError(f\"stride should be 1 or 2 instead of {stride}\")\n",
    "\n",
    "        if norm_layer is None:\n",
    "            norm_layer = nn.BatchNorm2d\n",
    "\n",
    "        hidden_dim = int(round(inp * expand_ratio))\n",
    "        self.use_res_connect = self.stride == 1 and inp == oup\n",
    "\n",
    "        layers: List[nn.Module] = []\n",
    "        if expand_ratio != 1:\n",
    "            # pw\n",
    "            layers.append(\n",
    "                Conv2dNormActivation(inp, hidden_dim, kernel_size=1, norm_layer=norm_layer, activation_layer=nn.ReLU6)\n",
    "            )\n",
    "        layers.extend(\n",
    "            [\n",
    "                # dw\n",
    "                Conv2dNormActivation(\n",
    "                    hidden_dim,\n",
    "                    hidden_dim,\n",
    "                    stride=stride,\n",
    "                    groups=hidden_dim,\n",
    "                    norm_layer=norm_layer,\n",
    "                    activation_layer=nn.ReLU6,\n",
    "                ),\n",
    "                # pw-linear\n",
    "                nn.Conv2d(hidden_dim, oup, 1, 1, 0, bias=False),\n",
    "                norm_layer(oup),\n",
    "            ]\n",
    "        )\n",
    "        self.conv = nn.Sequential(*layers)\n",
    "        self.out_channels = oup\n",
    "        self._is_cn = stride > 1\n",
    "\n",
    "    def forward(self, x: Tensor) -> Tensor:\n",
    "        if self.use_res_connect:\n",
    "            return x + self.conv(x)\n",
    "        else:\n",
    "            return self.conv(x)\n",
    "\n",
    "\n",
    "class MobileNetV2(nn.Module):\n",
    "    def __init__(\n",
    "        self,\n",
    "        num_classes: int = 1000,\n",
    "        width_mult: float = 1.0,\n",
    "        inverted_residual_setting: Optional[List[List[int]]] = None,\n",
    "        round_nearest: int = 8,\n",
    "        block: Optional[Callable[..., nn.Module]] = None,\n",
    "        norm_layer: Optional[Callable[..., nn.Module]] = None,\n",
    "        dropout: float = 0.2,\n",
    "    ) -> None:\n",
    "        \"\"\"\n",
    "        MobileNet V2 main class\n",
    "\n",
    "        Args:\n",
    "            num_classes (int): Number of classes\n",
    "            width_mult (float): Width multiplier - adjusts number of channels in each layer by this amount\n",
    "            inverted_residual_setting: Network structure\n",
    "            round_nearest (int): Round the number of channels in each layer to be a multiple of this number\n",
    "            Set to 1 to turn off rounding\n",
    "            block: Module specifying inverted residual building block for mobilenet\n",
    "            norm_layer: Module specifying the normalization layer to use\n",
    "            dropout (float): The droupout probability\n",
    "\n",
    "        \"\"\"\n",
    "        super().__init__()\n",
    "        _log_api_usage_once(self)\n",
    "\n",
    "        if block is None:\n",
    "            block = InvertedResidual\n",
    "\n",
    "        if norm_layer is None:\n",
    "            norm_layer = nn.BatchNorm2d\n",
    "\n",
    "        input_channel = 32\n",
    "        last_channel = 1280\n",
    "\n",
    "        if inverted_residual_setting is None:\n",
    "            inverted_residual_setting = [\n",
    "                # t, c, n, s\n",
    "                [1, 16, 1, 1],\n",
    "                [6, 24, 2, 2],\n",
    "                [6, 32, 3, 2],\n",
    "                [6, 64, 4, 2],\n",
    "                [6, 96, 3, 1],\n",
    "                [6, 160, 3, 2],\n",
    "                [6, 320, 1, 1],\n",
    "            ]\n",
    "\n",
    "        # only check the first element, assuming user knows t,c,n,s are required\n",
    "        if len(inverted_residual_setting) == 0 or len(inverted_residual_setting[0]) != 4:\n",
    "            raise ValueError(\n",
    "                f\"inverted_residual_setting should be non-empty or a 4-element list, got {inverted_residual_setting}\"\n",
    "            )\n",
    "\n",
    "        # building first layer\n",
    "        input_channel = _make_divisible(input_channel * width_mult, round_nearest)\n",
    "        self.last_channel = _make_divisible(last_channel * max(1.0, width_mult), round_nearest)\n",
    "        features: List[nn.Module] = [\n",
    "            Conv2dNormActivation(3, input_channel, stride=2, norm_layer=norm_layer, activation_layer=nn.ReLU6)\n",
    "        ]\n",
    "        # building inverted residual blocks\n",
    "        for t, c, n, s in inverted_residual_setting:\n",
    "            output_channel = _make_divisible(c * width_mult, round_nearest)\n",
    "            for i in range(n):\n",
    "                stride = s if i == 0 else 1\n",
    "                features.append(block(input_channel, output_channel, stride, expand_ratio=t, norm_layer=norm_layer))\n",
    "                input_channel = output_channel\n",
    "        # building last several layers\n",
    "        features.append(\n",
    "            Conv2dNormActivation(\n",
    "                input_channel, self.last_channel, kernel_size=1, norm_layer=norm_layer, activation_layer=nn.ReLU6\n",
    "            )\n",
    "        )\n",
    "        # make it nn.Sequential\n",
    "        self.features = nn.Sequential(*features)\n",
    "\n",
    "        # building classifier\n",
    "        self.classifier = nn.Sequential(\n",
    "            nn.Dropout(p=dropout),\n",
    "            nn.Linear(self.last_channel, num_classes),\n",
    "        )\n",
    "\n",
    "        # weight initialization\n",
    "        for m in self.modules():\n",
    "            if isinstance(m, nn.Conv2d):\n",
    "                nn.init.kaiming_normal_(m.weight, mode=\"fan_out\")\n",
    "                if m.bias is not None:\n",
    "                    nn.init.zeros_(m.bias)\n",
    "            elif isinstance(m, (nn.BatchNorm2d, nn.GroupNorm)):\n",
    "                nn.init.ones_(m.weight)\n",
    "                nn.init.zeros_(m.bias)\n",
    "            elif isinstance(m, nn.Linear):\n",
    "                nn.init.normal_(m.weight, 0, 0.01)\n",
    "                nn.init.zeros_(m.bias)\n",
    "\n",
    "    def _forward_impl(self, x: Tensor) -> Tensor:\n",
    "        # This exists since TorchScript doesn't support inheritance, so the superclass method\n",
    "        # (this one) needs to have a name other than `forward` that can be accessed in a subclass\n",
    "        x = self.features(x)\n",
    "        # Cannot use \"squeeze\" as batch-size can be 1\n",
    "        x = nn.functional.adaptive_avg_pool2d(x, (1, 1))\n",
    "        x = torch.flatten(x, 1)\n",
    "        x = self.classifier(x)\n",
    "        return x\n",
    "\n",
    "    @torch.inference_mode\n",
    "    def inference(self, x: Tensor) -> Tensor:\n",
    "        return self._forward_impl(x)\n",
    "\n",
    "    def forward(self, x: Tensor) -> Tensor:\n",
    "        return self._forward_impl(x)"
   ]
  },
  {
   "cell_type": "code",
   "execution_count": 5,
   "id": "fa71511f-5ec6-479d-9f96-009ef0b5887f",
   "metadata": {
    "execution": {
     "iopub.execute_input": "2024-12-18T18:41:57.262577Z",
     "iopub.status.busy": "2024-12-18T18:41:57.261863Z",
     "iopub.status.idle": "2024-12-18T18:41:57.321430Z",
     "shell.execute_reply": "2024-12-18T18:41:57.320343Z",
     "shell.execute_reply.started": "2024-12-18T18:41:57.262515Z"
    },
    "tags": []
   },
   "outputs": [
    {
     "name": "stdout",
     "output_type": "stream",
     "text": [
      "Using cuda device\n"
     ]
    }
   ],
   "source": [
    "device = (\n",
    "    \"cuda\"\n",
    "    if torch.cuda.is_available()\n",
    "    else \"mps\"\n",
    "    if torch.backends.mps.is_available()\n",
    "    else \"cpu\"\n",
    ")\n",
    "print(f\"Using {device} device\")"
   ]
  },
  {
   "cell_type": "code",
   "execution_count": 21,
   "id": "0b9f00aa-feb7-4619-b9ad-8b03d639cbc7",
   "metadata": {
    "execution": {
     "iopub.execute_input": "2024-12-18T19:13:28.543744Z",
     "iopub.status.busy": "2024-12-18T19:13:28.542248Z",
     "iopub.status.idle": "2024-12-18T19:13:28.850151Z",
     "shell.execute_reply": "2024-12-18T19:13:28.848626Z",
     "shell.execute_reply.started": "2024-12-18T19:13:28.543675Z"
    },
    "tags": []
   },
   "outputs": [
    {
     "name": "stderr",
     "output_type": "stream",
     "text": [
      "/usr/local/lib/python3.10/dist-packages/torch/_utils.py:776: UserWarning: TypedStorage is deprecated. It will be removed in the future and UntypedStorage will be the only storage class. This should only matter to you if you are using storages directly.  To access UntypedStorage directly, use tensor.untyped_storage() instead of tensor.storage()\n",
      "  return self.fget.__get__(instance, owner)()\n"
     ]
    },
    {
     "data": {
      "text/plain": [
       "<All keys matched successfully>"
      ]
     },
     "execution_count": 21,
     "metadata": {},
     "output_type": "execute_result"
    }
   ],
   "source": [
    "model = MobileNetV2(num_classes=20).to(device)\n",
    "model.load_state_dict(torch.load('best_mobile (10).pt', map_location=device, weights_only=True))"
   ]
  },
  {
   "cell_type": "code",
   "execution_count": 22,
   "id": "58e33799-cd9b-408a-a915-1f769f0ec014",
   "metadata": {
    "execution": {
     "iopub.execute_input": "2024-12-18T19:13:30.668981Z",
     "iopub.status.busy": "2024-12-18T19:13:30.667446Z",
     "iopub.status.idle": "2024-12-18T19:13:30.722970Z",
     "shell.execute_reply": "2024-12-18T19:13:30.721667Z",
     "shell.execute_reply.started": "2024-12-18T19:13:30.668937Z"
    },
    "tags": []
   },
   "outputs": [],
   "source": [
    "# model.load_state_dict(torch.load(\"best_mobile.pt\", map_location=device, weights_only=False))\n",
    "class FocalLoss(torch.nn.Module):\n",
    "    def __init__(self, alpha=1, gamma=2, reduction='mean'):\n",
    "        super().__init__()\n",
    "        self.alpha = alpha\n",
    "        self.gamma = gamma\n",
    "        self.reduction = reduction\n",
    "\n",
    "    def forward(self, inputs, targets):\n",
    "        ce_loss = torch.nn.functional.cross_entropy(inputs, targets, reduction='none')\n",
    "        pt = torch.exp(-ce_loss)\n",
    "        loss = self.alpha * (1 - pt) ** self.gamma * ce_loss\n",
    "\n",
    "        if self.reduction == 'mean':\n",
    "            return loss.mean()\n",
    "        elif self.reduction == 'sum':\n",
    "            return loss.sum()\n",
    "        return loss"
   ]
  },
  {
   "cell_type": "code",
   "execution_count": 23,
   "id": "2d02344f-5e9b-43c7-8e13-58b7b02fb8f5",
   "metadata": {
    "execution": {
     "iopub.execute_input": "2024-12-18T19:13:31.029648Z",
     "iopub.status.busy": "2024-12-18T19:13:31.028605Z",
     "iopub.status.idle": "2024-12-18T19:13:31.136936Z",
     "shell.execute_reply": "2024-12-18T19:13:31.135723Z",
     "shell.execute_reply.started": "2024-12-18T19:13:31.029585Z"
    },
    "tags": []
   },
   "outputs": [],
   "source": [
    "import torch.optim as optim\n",
    "import torch\n",
    "import torchvision\n",
    "from concurrent.futures import ThreadPoolExecutor\n",
    "from tqdm import tqdm\n",
    "import gc\n",
    "\n",
    "# loss_fn = nn.CrossEntropy\n",
    "loss_fn = torch.nn.CrossEntropyLoss()\n",
    "optimizer = torch.optim.AdamW(model.parameters(), lr=1e-3, weight_decay=0.01)\n",
    "scheduler = optim.lr_scheduler.ReduceLROnPlateau(optimizer, mode='max', factor=0.5, patience=5, verbose=True)\n",
    "trainer = Trainer(model, loss_fn, optimizer, scheduler)\n",
    "\n",
    "\n",
    "class CustomDataset(torch.utils.data.Dataset):\n",
    "    def __init__(self, data_frame, images_dir, augmentations_dict, transforms, max_augmentations=2000):\n",
    "        super().__init__()\n",
    "        self.transforms = transforms  # Список аугментаций\n",
    "        self.data = []\n",
    "        self.labels = []\n",
    "        self.augmentations_dict = augmentations_dict\n",
    "        self.max_augmentations = max_augmentations\n",
    "\n",
    "        def load_image(row):\n",
    "            img_path = f\"{images_dir}{row['img_id']}.jpg\"\n",
    "            target = int(row['target_feature'])\n",
    "            image = torchvision.io.read_image(img_path).float() / 255.0\n",
    "            \n",
    "            # Применяем аугментации\n",
    "            augmented_images = [self.transforms[0](image)]\n",
    "            if self.transforms:\n",
    "                num_augmentations = self.augmentations_dict[target]\n",
    "                count_a = 1\n",
    "                if num_augmentations>1:\n",
    "                    while count_a != num_augmentations:\n",
    "                        for transform in self.transforms[1:]:  # Применяем каждую аугментацию из списка\n",
    "                            augmented_image = transform(image)\n",
    "                            augmented_images.append(augmented_image)\n",
    "                            count_a += 1\n",
    "                            if count_a == num_augmentations:\n",
    "                                break\n",
    "\n",
    "            return augmented_images, [torch.tensor(target)] * len(augmented_images)\n",
    "\n",
    "        with ThreadPoolExecutor() as executor:\n",
    "            futures = {executor.submit(load_image, row): row for _, row in data_frame.iterrows()}\n",
    "            for future in tqdm(futures.keys(), desc='Loading images'):\n",
    "                augmented_images, targets = future.result()\n",
    "                self.data.extend(augmented_images)\n",
    "                self.labels.extend(targets)\n",
    "\n",
    "    def __len__(self):\n",
    "        return len(self.data)\n",
    "    \n",
    "    def get_labels(self):\n",
    "        return [label.item() for label in self.labels]\n",
    "\n",
    "    def __getitem__(self, idx):\n",
    "        image, label = self.data[idx], self.labels[idx]\n",
    "\n",
    "        # Ensure all images are of the same size\n",
    "        if image.size(1) != 224 or image.size(2) != 224:\n",
    "            print(f\"Image size mismatch: {image.size()} at index {idx}\")\n",
    "\n",
    "        return image, label\n",
    "\n",
    " \n",
    "torch.save(model.state_dict(), \"model.pth\")"
   ]
  },
  {
   "cell_type": "code",
   "execution_count": 24,
   "id": "3d47b11d-64c6-43c8-9dbd-82dad6debcaf",
   "metadata": {
    "execution": {
     "iopub.execute_input": "2024-12-18T19:13:31.927369Z",
     "iopub.status.busy": "2024-12-18T19:13:31.925922Z",
     "iopub.status.idle": "2024-12-18T19:13:31.959825Z",
     "shell.execute_reply": "2024-12-18T19:13:31.958668Z",
     "shell.execute_reply.started": "2024-12-18T19:13:31.927310Z"
    },
    "tags": []
   },
   "outputs": [],
   "source": [
    "import torchvision.transforms as transforms\n",
    "\n",
    "transformx = torchvision.transforms.Compose([\n",
    "    transforms.Resize((224, 224), antialias=True),  # Изменяем размер изображений для ResNet\n",
    "    torchvision.transforms.Normalize(mean=[0.485, 0.456, 0.406], std=[0.229, 0.224, 0.225]),  # Нормализация под ResNet\n",
    "])\n",
    "\n",
    "transformx1 = torchvision.transforms.Compose([\n",
    "    transforms.Resize((224, 224), antialias=True), \n",
    "    torchvision.transforms.RandomHorizontalFlip(p=1.0),# Изменяем размер изображений для ResNet\n",
    "    torchvision.transforms.Normalize(mean=[0.485, 0.456, 0.406], std=[0.229, 0.224, 0.225]),  # Нормализация под ResNet\n",
    "])\n",
    "\n",
    "transformx2 = torchvision.transforms.Compose([\n",
    "    transforms.Resize((224, 224), antialias=True), \n",
    "    torchvision.transforms.RandomRotation(degrees=30),\n",
    "    torchvision.transforms.Normalize(mean=[0.485, 0.456, 0.406], std=[0.229, 0.224, 0.225]),  # Нормализация под ResNet\n",
    "])\n",
    "\n",
    "transformx3 = torchvision.transforms.Compose([\n",
    "    transforms.Resize((224, 224), antialias=True), \n",
    "    torchvision.transforms.RandomRotation(degrees=30),\n",
    "    torchvision.transforms.RandomHorizontalFlip(p=1.0),\n",
    "    torchvision.transforms.ColorJitter(brightness=0.2, contrast=0.2, saturation=0.2, hue=0.1),\n",
    "    torchvision.transforms.Normalize(mean=[0.485, 0.456, 0.406], std=[0.229, 0.224, 0.225]),  # Нормализация под ResNet\n",
    "])\n",
    "\n",
    "transformx4 = torchvision.transforms.Compose([\n",
    "    transforms.Resize((224, 224), antialias=True), \n",
    "    torchvision.transforms.RandomRotation(degrees=30),\n",
    "    torchvision.transforms.ColorJitter(brightness=0.2, contrast=0.2, saturation=0.2, hue=0.1),\n",
    "    torchvision.transforms.Normalize(mean=[0.485, 0.456, 0.406], std=[0.229, 0.224, 0.225]),  # Нормализация под ResNet\n",
    "])\n",
    "\n",
    "transformx5 = transforms.Compose([\n",
    "    transforms.Resize((224, 224), antialias=True), \n",
    "    torchvision.transforms.GaussianBlur(kernel_size=5, sigma=(0.1, 2.0)),\n",
    "    torchvision.transforms.Normalize(mean=[0.485, 0.456, 0.406], std=[0.229, 0.224, 0.225]),  # Нормализация под ResNet\n",
    "])\n",
    "\n",
    "transformx6 = transforms.Compose([\n",
    "    transforms.Resize((224, 224), antialias=True), \n",
    "    torchvision.transforms.GaussianBlur(kernel_size=5, sigma=(0.1, 2.0)),\n",
    "    torchvision.transforms.RandomHorizontalFlip(p=1.0),\n",
    "    torchvision.transforms.Normalize(mean=[0.485, 0.456, 0.406], std=[0.229, 0.224, 0.225]),  # Нормализация под ResNet\n",
    "])\n",
    "\n",
    "transformx7 = transforms.Compose([\n",
    "    transforms.Resize((224, 224), antialias=True),  # Изменяем размер изображений для ResNet\n",
    "    transforms.RandomAffine(degrees=15, translate=(0.1, 0.1), scale=(0.9, 1.1)),  # Случайные аффинные преобразования\n",
    "    transforms.RandomHorizontalFlip(p=1.0),  # Случайное горизонтальное отражение\n",
    "    transforms.Normalize(mean=[0.485, 0.456, 0.406], std=[0.229, 0.224, 0.225]),  # Нормализация под ResNet\n",
    "])\n",
    "\n",
    "transformx8 = transforms.Compose([\n",
    "    transforms.Resize((224, 224), antialias=True),  # Изменяем размер изображений для ResNet\n",
    "    transforms.RandomAffine(degrees=15, translate=(0.1, 0.1), scale=(0.9, 1.1)),  # Случайные аффинные преобразования\n",
    "    transforms.Normalize(mean=[0.485, 0.456, 0.406], std=[0.229, 0.224, 0.225]),  # Нормализация под ResNet\n",
    "])"
   ]
  },
  {
   "cell_type": "code",
   "execution_count": 10,
   "id": "4def3727-6032-4b34-b481-29396b4b3e2c",
   "metadata": {
    "execution": {
     "iopub.execute_input": "2024-12-18T18:41:57.972915Z",
     "iopub.status.busy": "2024-12-18T18:41:57.971490Z",
     "iopub.status.idle": "2024-12-18T18:41:58.673594Z",
     "shell.execute_reply": "2024-12-18T18:41:58.672431Z",
     "shell.execute_reply.started": "2024-12-18T18:41:57.972871Z"
    },
    "tags": []
   },
   "outputs": [],
   "source": [
    "from sklearn.model_selection import train_test_split\n",
    "import pandas as pd\n",
    "import matplotlib.pyplot as plt\n",
    "\n",
    "data = pd.read_csv(\"human_poses_data/train_answers.csv\")\n",
    "train_data, test_data = train_test_split(data, test_size=0.15, stratify=data['target_feature'])"
   ]
  },
  {
   "cell_type": "code",
   "execution_count": 11,
   "id": "3cf05eb1-2271-44b6-8b36-433aad742187",
   "metadata": {
    "execution": {
     "iopub.execute_input": "2024-12-18T18:41:58.676625Z",
     "iopub.status.busy": "2024-12-18T18:41:58.675224Z",
     "iopub.status.idle": "2024-12-18T18:41:58.694602Z",
     "shell.execute_reply": "2024-12-18T18:41:58.693481Z",
     "shell.execute_reply.started": "2024-12-18T18:41:58.676564Z"
    },
    "tags": []
   },
   "outputs": [
    {
     "data": {
      "text/plain": [
       "{0: 8,\n",
       " 1: 8,\n",
       " 2: 8,\n",
       " 3: 8,\n",
       " 4: 8,\n",
       " 5: 8,\n",
       " 6: 8,\n",
       " 7: 8,\n",
       " 8: 8,\n",
       " 9: 8,\n",
       " 10: 8,\n",
       " 11: 8,\n",
       " 12: 8,\n",
       " 13: 8,\n",
       " 14: 8,\n",
       " 15: 8,\n",
       " 16: 8,\n",
       " 17: 8,\n",
       " 18: 8,\n",
       " 19: 8,\n",
       " 20: 8}"
      ]
     },
     "execution_count": 11,
     "metadata": {},
     "output_type": "execute_result"
    }
   ],
   "source": [
    "counts = train_data['target_feature'].value_counts()\n",
    "counts = 2000/counts\n",
    "counts = counts.round().astype(int).to_dict()\n",
    "counts = {key: 10 for key in range(21)}\n",
    "counts"
   ]
  },
  {
   "cell_type": "code",
   "execution_count": 12,
   "id": "bdd12f1c-b4b6-4df2-b1ea-0026d5ae23c8",
   "metadata": {
    "execution": {
     "iopub.execute_input": "2024-12-18T18:41:58.697191Z",
     "iopub.status.busy": "2024-12-18T18:41:58.695973Z",
     "iopub.status.idle": "2024-12-18T18:41:59.121987Z",
     "shell.execute_reply": "2024-12-18T18:41:59.120673Z",
     "shell.execute_reply.started": "2024-12-18T18:41:58.697152Z"
    },
    "tags": []
   },
   "outputs": [
    {
     "data": {
      "image/png": "[encoded data removed]",
      "text/plain": [
       "<Figure size 1000x600 with 1 Axes>"
      ]
     },
     "metadata": {},
     "output_type": "display_data"
    }
   ],
   "source": [
    "plt.figure(figsize=(10, 6))\n",
    "train_data['target_feature'].plot.hist(bins=30, edgecolor='black')\n",
    "\n",
    "# Настройка оси X для отображения только целых чисел\n",
    "plt.xticks(range(int(data['target_feature'].min()), int(data['target_feature'].max()) + 1))\n",
    "\n",
    "# Отображение гистограммы\n",
    "plt.title('Гистограмма классов')\n",
    "plt.xlabel('Значения')\n",
    "plt.ylabel('Частота')\n",
    "plt.grid(axis='y', alpha=0.75)\n",
    "plt.show()"
   ]
  },
  {
   "cell_type": "code",
   "execution_count": 13,
   "id": "2e8cbb7a-7ba4-46f3-a5ab-6929317ee484",
   "metadata": {
    "execution": {
     "iopub.execute_input": "2024-12-18T18:41:59.124540Z",
     "iopub.status.busy": "2024-12-18T18:41:59.123527Z",
     "iopub.status.idle": "2024-12-18T18:52:25.137574Z",
     "shell.execute_reply": "2024-12-18T18:52:25.136364Z",
     "shell.execute_reply.started": "2024-12-18T18:41:59.124489Z"
    },
    "tags": []
   },
   "outputs": [
    {
     "name": "stderr",
     "output_type": "stream",
     "text": [
      "Loading images: 100%|██████████| 10511/10511 [10:24<00:00, 16.83it/s]\n"
     ]
    }
   ],
   "source": [
    "from concurrent.futures import ThreadPoolExecutor\n",
    "\n",
    "img_base = CustomDataset(train_data, \"human_poses_data/img_train/\", counts, [transformx, transformx1, transformx2, transformx3,transformx4,transformx5,transformx6,transformx7,transformx8])"
   ]
  },
  {
   "cell_type": "code",
   "execution_count": 14,
   "id": "c47307f6-8cc6-48c9-8e5e-3c19a3d027d0",
   "metadata": {
    "execution": {
     "iopub.execute_input": "2024-12-18T18:52:25.140343Z",
     "iopub.status.busy": "2024-12-18T18:52:25.138973Z",
     "iopub.status.idle": "2024-12-18T18:52:26.659805Z",
     "shell.execute_reply": "2024-12-18T18:52:26.658641Z",
     "shell.execute_reply.started": "2024-12-18T18:52:25.140284Z"
    },
    "tags": []
   },
   "outputs": [
    {
     "data": {
      "image/png": "[encoded data removed]",
      "text/plain": [
       "<Figure size 1000x600 with 1 Axes>"
      ]
     },
     "metadata": {},
     "output_type": "display_data"
    }
   ],
   "source": [
    "plt.figure(figsize=(10, 6))\n",
    "plt.hist(img_base.labels, bins=30, edgecolor='black')\n",
    "\n",
    "plt.xticks(range(int(data['target_feature'].min()), int(data['target_feature'].max()) + 1))\n",
    "\n",
    "plt.title('Гистограмма классов')\n",
    "plt.xlabel('Значения')\n",
    "plt.ylabel('Частота')\n",
    "plt.grid(axis='y', alpha=0.75)\n",
    "plt.show()"
   ]
  },
  {
   "cell_type": "code",
   "execution_count": 15,
   "id": "777c2221-9413-444e-988b-430eec44385f",
   "metadata": {
    "execution": {
     "iopub.execute_input": "2024-12-18T18:52:26.662731Z",
     "iopub.status.busy": "2024-12-18T18:52:26.661271Z",
     "iopub.status.idle": "2024-12-18T18:52:26.682509Z",
     "shell.execute_reply": "2024-12-18T18:52:26.681318Z",
     "shell.execute_reply.started": "2024-12-18T18:52:26.662688Z"
    },
    "tags": []
   },
   "outputs": [],
   "source": [
    "class CustomDataset2(torch.utils.data.Dataset):\n",
    "    def __init__(self, data_frame, images_dir, transform=None):\n",
    "        super().__init__()\n",
    "        self.transform = transform\n",
    "        self.data = []\n",
    "        self.labels = []\n",
    "\n",
    "        def load_image(row):\n",
    "            img_path = f\"{images_dir}{row['img_id']}.jpg\"\n",
    "            target = int(row['target_feature'])\n",
    "            image = torchvision.io.read_image(img_path).float() / 255.0\n",
    "\n",
    "            if self.transform:\n",
    "                image = self.transform(image)\n",
    "\n",
    "            return image, torch.tensor(target)\n",
    "\n",
    "        with ThreadPoolExecutor() as executor:\n",
    "            futures = {executor.submit(load_image, row): row for _, row in data_frame.iterrows()}\n",
    "            for future in tqdm(futures.keys(), desc='Loading images'):\n",
    "                image, target = future.result()\n",
    "                self.data.append(image)\n",
    "                self.labels.append(target)\n",
    "\n",
    "    def __len__(self):\n",
    "        return len(self.data)\n",
    "    \n",
    "    def get_labels(self):\n",
    "        return [label.item() for label in self.labels]\n",
    "\n",
    "    def __getitem__(self, idx):\n",
    "        return self.data[idx], self.labels[idx]"
   ]
  },
  {
   "cell_type": "code",
   "execution_count": 16,
   "id": "441ef01a-dd50-43e9-bca7-ec689fd9c492",
   "metadata": {
    "execution": {
     "iopub.execute_input": "2024-12-18T18:52:26.684812Z",
     "iopub.status.busy": "2024-12-18T18:52:26.683890Z",
     "iopub.status.idle": "2024-12-18T18:52:40.786907Z",
     "shell.execute_reply": "2024-12-18T18:52:40.785446Z",
     "shell.execute_reply.started": "2024-12-18T18:52:26.684775Z"
    },
    "tags": []
   },
   "outputs": [
    {
     "name": "stderr",
     "output_type": "stream",
     "text": [
      "Loading images: 100%|██████████| 1856/1856 [00:13<00:00, 135.07it/s]\n"
     ]
    }
   ],
   "source": [
    "train_dataset = img_base\n",
    "val_dataset = CustomDataset2(test_data, \"human_poses_data/img_train/\", transformx)"
   ]
  },
  {
   "cell_type": "code",
   "execution_count": 25,
   "id": "412e9f23-0f54-44f3-b77f-748258227b4d",
   "metadata": {
    "execution": {
     "iopub.execute_input": "2024-12-18T19:13:41.594942Z",
     "iopub.status.busy": "2024-12-18T19:13:41.593921Z",
     "iopub.status.idle": "2024-12-18T19:13:41.617890Z",
     "shell.execute_reply": "2024-12-18T19:13:41.616594Z",
     "shell.execute_reply.started": "2024-12-18T19:13:41.594892Z"
    },
    "tags": []
   },
   "outputs": [],
   "source": [
    "train_loader = torch.utils.data.DataLoader(train_dataset, batch_size=300, shuffle=True, num_workers=NUM_WORKERS,\n",
    "                                           pin_memory=True)\n",
    "test_loader = torch.utils.data.DataLoader(val_dataset, batch_size=300, num_workers=NUM_WORKERS, pin_memory=True)"
   ]
  },
  {
   "cell_type": "code",
   "execution_count": 26,
   "id": "14cb49ac-6187-4e80-87df-8a1eb735d446",
   "metadata": {
    "execution": {
     "iopub.execute_input": "2024-12-18T19:13:42.911596Z",
     "iopub.status.busy": "2024-12-18T19:13:42.910603Z",
     "iopub.status.idle": "2024-12-18T19:13:42.982105Z",
     "shell.execute_reply": "2024-12-18T19:13:42.980784Z",
     "shell.execute_reply.started": "2024-12-18T19:13:42.911538Z"
    },
    "tags": []
   },
   "outputs": [],
   "source": [
    "torch.cuda.empty_cache()"
   ]
  },
  {
   "cell_type": "code",
   "execution_count": 27,
   "id": "d5a2d7a2-55fa-4353-9a7a-9af21a01c8c4",
   "metadata": {
    "execution": {
     "iopub.execute_input": "2024-12-18T19:13:43.711204Z",
     "iopub.status.busy": "2024-12-18T19:13:43.709970Z",
     "iopub.status.idle": "2024-12-18T19:39:26.036102Z",
     "shell.execute_reply": "2024-12-18T19:39:26.032392Z",
     "shell.execute_reply.started": "2024-12-18T19:13:43.711152Z"
    },
    "tags": []
   },
   "outputs": [
    {
     "name": "stderr",
     "output_type": "stream",
     "text": [
      "100%|██████████| 281/281 [01:56<00:00,  2.42it/s]\n"
     ]
    },
    {
     "name": "stdout",
     "output_type": "stream",
     "text": [
      "Epoch 1, Training Loss: 0.0005338572215736508, Training Accuracy: 0.9507539720293027\n"
     ]
    },
    {
     "name": "stderr",
     "output_type": "stream",
     "text": [
      "100%|██████████| 7/7 [00:09<00:00,  1.29s/it]"
     ]
    },
    {
     "name": "stdout",
     "output_type": "stream",
     "text": [
      "Model improved and saved.\n"
     ]
    },
    {
     "name": "stderr",
     "output_type": "stream",
     "text": [
      "\n"
     ]
    },
    {
     "name": "stdout",
     "output_type": "stream",
     "text": [
      "Validation Loss: 0.04148734627025468, Validation Accuracy: 0.9881465517241379\n"
     ]
    },
    {
     "name": "stderr",
     "output_type": "stream",
     "text": [
      "100%|██████████| 281/281 [01:54<00:00,  2.46it/s]\n"
     ]
    },
    {
     "name": "stdout",
     "output_type": "stream",
     "text": [
      "Epoch 2, Training Loss: 0.0001280641852731039, Training Accuracy: 0.9898677575872895\n"
     ]
    },
    {
     "name": "stderr",
     "output_type": "stream",
     "text": [
      "100%|██████████| 7/7 [00:08<00:00,  1.25s/it]\n"
     ]
    },
    {
     "name": "stdout",
     "output_type": "stream",
     "text": [
      "Validation Loss: 0.04245061959539141, Validation Accuracy: 0.9865301724137931\n"
     ]
    },
    {
     "name": "stderr",
     "output_type": "stream",
     "text": [
      "100%|██████████| 281/281 [01:54<00:00,  2.46it/s]\n"
     ]
    },
    {
     "name": "stdout",
     "output_type": "stream",
     "text": [
      "Epoch 3, Training Loss: 7.79177798351216e-05, Training Accuracy: 0.9935543716106936\n"
     ]
    },
    {
     "name": "stderr",
     "output_type": "stream",
     "text": [
      "100%|██████████| 7/7 [00:08<00:00,  1.22s/it]\n"
     ]
    },
    {
     "name": "stdout",
     "output_type": "stream",
     "text": [
      "Validation Loss: 0.09101886807807855, Validation Accuracy: 0.9709051724137931\n"
     ]
    },
    {
     "name": "stderr",
     "output_type": "stream",
     "text": [
      "100%|██████████| 281/281 [01:54<00:00,  2.46it/s]\n"
     ]
    },
    {
     "name": "stdout",
     "output_type": "stream",
     "text": [
      "Epoch 4, Training Loss: 0.00011418829751782663, Training Accuracy: 0.9887023118637618\n"
     ]
    },
    {
     "name": "stderr",
     "output_type": "stream",
     "text": [
      "100%|██████████| 7/7 [00:08<00:00,  1.23s/it]\n"
     ]
    },
    {
     "name": "stdout",
     "output_type": "stream",
     "text": [
      "Validation Loss: 0.08997547466840063, Validation Accuracy: 0.9752155172413793\n"
     ]
    },
    {
     "name": "stderr",
     "output_type": "stream",
     "text": [
      "100%|██████████| 281/281 [01:54<00:00,  2.46it/s]\n"
     ]
    },
    {
     "name": "stdout",
     "output_type": "stream",
     "text": [
      "Epoch 5, Training Loss: 9.881212799720825e-05, Training Accuracy: 0.9905337265721625\n"
     ]
    },
    {
     "name": "stderr",
     "output_type": "stream",
     "text": [
      "100%|██████████| 7/7 [00:08<00:00,  1.25s/it]\n"
     ]
    },
    {
     "name": "stdout",
     "output_type": "stream",
     "text": [
      "Validation Loss: 0.1667104001556124, Validation Accuracy: 0.9515086206896551\n"
     ]
    },
    {
     "name": "stderr",
     "output_type": "stream",
     "text": [
      "100%|██████████| 281/281 [01:54<00:00,  2.46it/s]\n"
     ]
    },
    {
     "name": "stdout",
     "output_type": "stream",
     "text": [
      "Epoch 6, Training Loss: 0.00011381472943333129, Training Accuracy: 0.9887974502901722\n"
     ]
    },
    {
     "name": "stderr",
     "output_type": "stream",
     "text": [
      "100%|██████████| 7/7 [00:08<00:00,  1.25s/it]\n"
     ]
    },
    {
     "name": "stdout",
     "output_type": "stream",
     "text": [
      "Validation Loss: 0.14267405548266002, Validation Accuracy: 0.9547413793103449\n"
     ]
    },
    {
     "name": "stderr",
     "output_type": "stream",
     "text": [
      "100%|██████████| 281/281 [01:54<00:00,  2.46it/s]\n"
     ]
    },
    {
     "name": "stdout",
     "output_type": "stream",
     "text": [
      "Epoch 7, Training Loss: 7.617544224839731e-05, Training Accuracy: 0.992162972124441\n"
     ]
    },
    {
     "name": "stderr",
     "output_type": "stream",
     "text": [
      "100%|██████████| 7/7 [00:08<00:00,  1.25s/it]\n"
     ]
    },
    {
     "name": "stdout",
     "output_type": "stream",
     "text": [
      "Epoch 00007: reducing learning rate of group 0 to 5.0000e-04.\n",
      "Validation Loss: 0.1300136617251805, Validation Accuracy: 0.9552801724137931\n"
     ]
    },
    {
     "name": "stderr",
     "output_type": "stream",
     "text": [
      "100%|██████████| 281/281 [01:54<00:00,  2.46it/s]\n"
     ]
    },
    {
     "name": "stdout",
     "output_type": "stream",
     "text": [
      "Epoch 8, Training Loss: 1.951357944697033e-05, Training Accuracy: 0.9983350775378175\n"
     ]
    },
    {
     "name": "stderr",
     "output_type": "stream",
     "text": [
      "100%|██████████| 7/7 [00:08<00:00,  1.24s/it]\n"
     ]
    },
    {
     "name": "stdout",
     "output_type": "stream",
     "text": [
      "Validation Loss: 0.08981735152857644, Validation Accuracy: 0.9709051724137931\n"
     ]
    },
    {
     "name": "stderr",
     "output_type": "stream",
     "text": [
      "100%|██████████| 281/281 [01:54<00:00,  2.46it/s]\n"
     ]
    },
    {
     "name": "stdout",
     "output_type": "stream",
     "text": [
      "Epoch 9, Training Loss: 5.662426114222476e-06, Training Accuracy: 0.99972647702407\n"
     ]
    },
    {
     "name": "stderr",
     "output_type": "stream",
     "text": [
      "100%|██████████| 7/7 [00:08<00:00,  1.24s/it]\n"
     ]
    },
    {
     "name": "stdout",
     "output_type": "stream",
     "text": [
      "Validation Loss: 0.07396326373730387, Validation Accuracy: 0.9725215517241379\n"
     ]
    },
    {
     "name": "stderr",
     "output_type": "stream",
     "text": [
      "100%|██████████| 281/281 [01:54<00:00,  2.46it/s]\n"
     ]
    },
    {
     "name": "stdout",
     "output_type": "stream",
     "text": [
      "Epoch 10, Training Loss: 3.5179055640276705e-06, Training Accuracy: 0.9998097231471792\n"
     ]
    },
    {
     "name": "stderr",
     "output_type": "stream",
     "text": [
      "100%|██████████| 7/7 [00:08<00:00,  1.25s/it]\n"
     ]
    },
    {
     "name": "stdout",
     "output_type": "stream",
     "text": [
      "Validation Loss: 0.06898531796676773, Validation Accuracy: 0.9779094827586207\n"
     ]
    },
    {
     "name": "stderr",
     "output_type": "stream",
     "text": [
      "100%|██████████| 281/281 [01:54<00:00,  2.46it/s]\n"
     ]
    },
    {
     "name": "stdout",
     "output_type": "stream",
     "text": [
      "Epoch 11, Training Loss: 2.4108318540763566e-06, Training Accuracy: 0.9998810769669869\n"
     ]
    },
    {
     "name": "stderr",
     "output_type": "stream",
     "text": [
      "100%|██████████| 7/7 [00:08<00:00,  1.22s/it]\n"
     ]
    },
    {
     "name": "stdout",
     "output_type": "stream",
     "text": [
      "Validation Loss: 0.06613969856074878, Validation Accuracy: 0.9773706896551724\n"
     ]
    },
    {
     "name": "stderr",
     "output_type": "stream",
     "text": [
      "100%|██████████| 281/281 [01:54<00:00,  2.46it/s]\n"
     ]
    },
    {
     "name": "stdout",
     "output_type": "stream",
     "text": [
      "Epoch 12, Training Loss: 2.5980060979322363e-06, Training Accuracy: 0.9998454000570831\n"
     ]
    },
    {
     "name": "stderr",
     "output_type": "stream",
     "text": [
      "100%|██████████| 7/7 [00:08<00:00,  1.27s/it]\n"
     ]
    },
    {
     "name": "stdout",
     "output_type": "stream",
     "text": [
      "Validation Loss: 0.06503356939979962, Validation Accuracy: 0.9806034482758621\n"
     ]
    },
    {
     "name": "stderr",
     "output_type": "stream",
     "text": [
      " 52%|█████▏    | 145/281 [01:04<01:00,  2.25it/s]\n"
     ]
    },
    {
     "ename": "KeyboardInterrupt",
     "evalue": "",
     "output_type": "error",
     "traceback": [
      "\u001b[0;31m---------------------------------------------------------------------------\u001b[0m",
      "\u001b[0;31mKeyboardInterrupt\u001b[0m                         Traceback (most recent call last)",
      "\u001b[0;32m/tmp/ipykernel_7258/4050605598.py\u001b[0m in \u001b[0;36m<cell line: 2>\u001b[0;34m()\u001b[0m\n\u001b[1;32m      1\u001b[0m \u001b[0mNUM_EPOCH\u001b[0m \u001b[0;34m=\u001b[0m \u001b[0;36m50\u001b[0m\u001b[0;34m\u001b[0m\u001b[0;34m\u001b[0m\u001b[0m\n\u001b[0;32m----> 2\u001b[0;31m \u001b[0mtrainer\u001b[0m\u001b[0;34m.\u001b[0m\u001b[0mtrain\u001b[0m\u001b[0;34m(\u001b[0m\u001b[0mtrain_loader\u001b[0m\u001b[0;34m,\u001b[0m \u001b[0mNUM_EPOCH\u001b[0m\u001b[0;34m,\u001b[0m \u001b[0mtest_loader\u001b[0m\u001b[0;34m)\u001b[0m\u001b[0;34m\u001b[0m\u001b[0;34m\u001b[0m\u001b[0m\n\u001b[0m",
      "\u001b[0;32m/tmp/ipykernel_7258/3916426728.py\u001b[0m in \u001b[0;36mtrain\u001b[0;34m(self, dataloader, epochs, test_loader)\u001b[0m\n\u001b[1;32m     31\u001b[0m                 \u001b[0mself\u001b[0m\u001b[0;34m.\u001b[0m\u001b[0moptimizer\u001b[0m\u001b[0;34m.\u001b[0m\u001b[0mstep\u001b[0m\u001b[0;34m(\u001b[0m\u001b[0;34m)\u001b[0m\u001b[0;34m\u001b[0m\u001b[0;34m\u001b[0m\u001b[0m\n\u001b[1;32m     32\u001b[0m \u001b[0;34m\u001b[0m\u001b[0m\n\u001b[0;32m---> 33\u001b[0;31m                 \u001b[0mtotal_loss\u001b[0m \u001b[0;34m+=\u001b[0m \u001b[0mloss\u001b[0m\u001b[0;34m.\u001b[0m\u001b[0mitem\u001b[0m\u001b[0;34m(\u001b[0m\u001b[0;34m)\u001b[0m\u001b[0;34m\u001b[0m\u001b[0;34m\u001b[0m\u001b[0m\n\u001b[0m\u001b[1;32m     34\u001b[0m                 \u001b[0mtotal_accuracy\u001b[0m \u001b[0;34m+=\u001b[0m \u001b[0moutput\u001b[0m\u001b[0;34m.\u001b[0m\u001b[0margmax\u001b[0m\u001b[0;34m(\u001b[0m\u001b[0;36m1\u001b[0m\u001b[0;34m)\u001b[0m\u001b[0;34m.\u001b[0m\u001b[0meq\u001b[0m\u001b[0;34m(\u001b[0m\u001b[0my\u001b[0m\u001b[0;34m)\u001b[0m\u001b[0;34m.\u001b[0m\u001b[0mfloat\u001b[0m\u001b[0;34m(\u001b[0m\u001b[0;34m)\u001b[0m\u001b[0;34m.\u001b[0m\u001b[0msum\u001b[0m\u001b[0;34m(\u001b[0m\u001b[0;34m)\u001b[0m\u001b[0;34m.\u001b[0m\u001b[0mitem\u001b[0m\u001b[0;34m(\u001b[0m\u001b[0;34m)\u001b[0m\u001b[0;34m\u001b[0m\u001b[0;34m\u001b[0m\u001b[0m\n\u001b[1;32m     35\u001b[0m \u001b[0;34m\u001b[0m\u001b[0m\n",
      "\u001b[0;31mKeyboardInterrupt\u001b[0m: "
     ]
    }
   ],
   "source": [
    "NUM_EPOCH = 50\n",
    "trainer.train(train_loader, NUM_EPOCH, test_loader)"
   ]
  },
  {
   "cell_type": "code",
   "execution_count": 31,
   "id": "846dbb8e-80d5-4415-9290-20c3ff894467",
   "metadata": {
    "execution": {
     "iopub.execute_input": "2024-12-18T19:46:49.681047Z",
     "iopub.status.busy": "2024-12-18T19:46:49.679877Z",
     "iopub.status.idle": "2024-12-18T19:55:13.170058Z",
     "shell.execute_reply": "2024-12-18T19:55:13.165890Z",
     "shell.execute_reply.started": "2024-12-18T19:46:49.680993Z"
    },
    "tags": []
   },
   "outputs": [
    {
     "name": "stderr",
     "output_type": "stream",
     "text": [
      "100%|██████████| 281/281 [01:54<00:00,  2.45it/s]\n"
     ]
    },
    {
     "name": "stdout",
     "output_type": "stream",
     "text": [
      "Epoch 1, Training Loss: 2.9158930551373813e-06, Training Accuracy: 0.9997502616306726\n"
     ]
    },
    {
     "name": "stderr",
     "output_type": "stream",
     "text": [
      "100%|██████████| 7/7 [00:08<00:00,  1.24s/it]\n"
     ]
    },
    {
     "name": "stdout",
     "output_type": "stream",
     "text": [
      "Epoch 00013: reducing learning rate of group 0 to 2.5000e-04.\n",
      "Validation Loss: 0.07193114502089364, Validation Accuracy: 0.9779094827586207\n"
     ]
    },
    {
     "name": "stderr",
     "output_type": "stream",
     "text": [
      "100%|██████████| 281/281 [01:54<00:00,  2.46it/s]\n"
     ]
    },
    {
     "name": "stdout",
     "output_type": "stream",
     "text": [
      "Epoch 2, Training Loss: 2.3993795080402583e-06, Training Accuracy: 0.9998572923603843\n"
     ]
    },
    {
     "name": "stderr",
     "output_type": "stream",
     "text": [
      "100%|██████████| 7/7 [00:09<00:00,  1.29s/it]\n"
     ]
    },
    {
     "name": "stdout",
     "output_type": "stream",
     "text": [
      "Validation Loss: 0.06724340468645096, Validation Accuracy: 0.9800646551724138\n"
     ]
    },
    {
     "name": "stderr",
     "output_type": "stream",
     "text": [
      "100%|██████████| 281/281 [01:54<00:00,  2.46it/s]\n"
     ]
    },
    {
     "name": "stdout",
     "output_type": "stream",
     "text": [
      "Epoch 3, Training Loss: 1.4108447697104635e-06, Training Accuracy: 0.9998572923603843\n"
     ]
    },
    {
     "name": "stderr",
     "output_type": "stream",
     "text": [
      "100%|██████████| 7/7 [00:08<00:00,  1.25s/it]\n"
     ]
    },
    {
     "name": "stdout",
     "output_type": "stream",
     "text": [
      "Validation Loss: 0.06702462849872452, Validation Accuracy: 0.9789870689655172\n"
     ]
    },
    {
     "name": "stderr",
     "output_type": "stream",
     "text": [
      "100%|██████████| 281/281 [01:54<00:00,  2.46it/s]\n"
     ]
    },
    {
     "name": "stdout",
     "output_type": "stream",
     "text": [
      "Epoch 4, Training Loss: 1.4279079182238495e-06, Training Accuracy: 0.9998929692702883\n"
     ]
    },
    {
     "name": "stderr",
     "output_type": "stream",
     "text": [
      "100%|██████████| 7/7 [00:08<00:00,  1.26s/it]\n"
     ]
    },
    {
     "name": "stdout",
     "output_type": "stream",
     "text": [
      "Validation Loss: 0.06579784569995743, Validation Accuracy: 0.9827586206896551\n"
     ]
    },
    {
     "name": "stderr",
     "output_type": "stream",
     "text": [
      "  0%|          | 0/281 [00:00<?, ?it/s]Exception ignored in: <function _releaseLock at 0x7f1149698f70>\n",
      "Traceback (most recent call last):\n",
      "  File \"/usr/lib/python3.10/logging/__init__.py\", line 228, in _releaseLock\n",
      "    def _releaseLock():\n",
      "KeyboardInterrupt: \n",
      "  4%|▎         | 10/281 [00:10<04:46,  1.06s/it]\n"
     ]
    },
    {
     "ename": "KeyboardInterrupt",
     "evalue": "",
     "output_type": "error",
     "traceback": [
      "\u001b[0;31m---------------------------------------------------------------------------\u001b[0m",
      "\u001b[0;31mKeyboardInterrupt\u001b[0m                         Traceback (most recent call last)",
      "\u001b[0;32m/tmp/ipykernel_7258/167359361.py\u001b[0m in \u001b[0;36m<cell line: 2>\u001b[0;34m()\u001b[0m\n\u001b[1;32m      1\u001b[0m \u001b[0mmodel\u001b[0m\u001b[0;34m.\u001b[0m\u001b[0mload_state_dict\u001b[0m\u001b[0;34m(\u001b[0m\u001b[0mtorch\u001b[0m\u001b[0;34m.\u001b[0m\u001b[0mload\u001b[0m\u001b[0;34m(\u001b[0m\u001b[0;34m'mobileV2.pt'\u001b[0m\u001b[0;34m,\u001b[0m \u001b[0mmap_location\u001b[0m\u001b[0;34m=\u001b[0m\u001b[0mdevice\u001b[0m\u001b[0;34m,\u001b[0m \u001b[0mweights_only\u001b[0m\u001b[0;34m=\u001b[0m\u001b[0;32mTrue\u001b[0m\u001b[0;34m)\u001b[0m\u001b[0;34m)\u001b[0m\u001b[0;34m\u001b[0m\u001b[0;34m\u001b[0m\u001b[0m\n\u001b[0;32m----> 2\u001b[0;31m \u001b[0mtrainer\u001b[0m\u001b[0;34m.\u001b[0m\u001b[0mtrain\u001b[0m\u001b[0;34m(\u001b[0m\u001b[0mtrain_loader\u001b[0m\u001b[0;34m,\u001b[0m \u001b[0mNUM_EPOCH\u001b[0m\u001b[0;34m,\u001b[0m \u001b[0mtest_loader\u001b[0m\u001b[0;34m)\u001b[0m\u001b[0;34m\u001b[0m\u001b[0;34m\u001b[0m\u001b[0m\n\u001b[0m",
      "\u001b[0;32m/tmp/ipykernel_7258/3916426728.py\u001b[0m in \u001b[0;36mtrain\u001b[0;34m(self, dataloader, epochs, test_loader)\u001b[0m\n\u001b[1;32m     23\u001b[0m             \u001b[0mtotal_accuracy\u001b[0m \u001b[0;34m=\u001b[0m \u001b[0;36m0\u001b[0m\u001b[0;34m\u001b[0m\u001b[0;34m\u001b[0m\u001b[0m\n\u001b[1;32m     24\u001b[0m \u001b[0;34m\u001b[0m\u001b[0m\n\u001b[0;32m---> 25\u001b[0;31m             \u001b[0;32mfor\u001b[0m \u001b[0mX\u001b[0m\u001b[0;34m,\u001b[0m \u001b[0my\u001b[0m \u001b[0;32min\u001b[0m \u001b[0mtqdm\u001b[0m\u001b[0;34m(\u001b[0m\u001b[0mdataloader\u001b[0m\u001b[0;34m)\u001b[0m\u001b[0;34m:\u001b[0m\u001b[0;34m\u001b[0m\u001b[0;34m\u001b[0m\u001b[0m\n\u001b[0m\u001b[1;32m     26\u001b[0m                 \u001b[0mX\u001b[0m\u001b[0;34m,\u001b[0m \u001b[0my\u001b[0m \u001b[0;34m=\u001b[0m \u001b[0mX\u001b[0m\u001b[0;34m.\u001b[0m\u001b[0mto\u001b[0m\u001b[0;34m(\u001b[0m\u001b[0mdevice\u001b[0m\u001b[0;34m)\u001b[0m\u001b[0;34m,\u001b[0m \u001b[0my\u001b[0m\u001b[0;34m.\u001b[0m\u001b[0mto\u001b[0m\u001b[0;34m(\u001b[0m\u001b[0mdevice\u001b[0m\u001b[0;34m)\u001b[0m\u001b[0;34m\u001b[0m\u001b[0;34m\u001b[0m\u001b[0m\n\u001b[1;32m     27\u001b[0m                 \u001b[0mself\u001b[0m\u001b[0;34m.\u001b[0m\u001b[0moptimizer\u001b[0m\u001b[0;34m.\u001b[0m\u001b[0mzero_grad\u001b[0m\u001b[0;34m(\u001b[0m\u001b[0mset_to_none\u001b[0m\u001b[0;34m=\u001b[0m\u001b[0;32mTrue\u001b[0m\u001b[0;34m)\u001b[0m\u001b[0;34m\u001b[0m\u001b[0;34m\u001b[0m\u001b[0m\n",
      "\u001b[0;32m/usr/local/lib/python3.10/dist-packages/tqdm/std.py\u001b[0m in \u001b[0;36m__iter__\u001b[0;34m(self)\u001b[0m\n\u001b[1;32m   1176\u001b[0m \u001b[0;34m\u001b[0m\u001b[0m\n\u001b[1;32m   1177\u001b[0m         \u001b[0;32mtry\u001b[0m\u001b[0;34m:\u001b[0m\u001b[0;34m\u001b[0m\u001b[0;34m\u001b[0m\u001b[0m\n\u001b[0;32m-> 1178\u001b[0;31m             \u001b[0;32mfor\u001b[0m \u001b[0mobj\u001b[0m \u001b[0;32min\u001b[0m \u001b[0miterable\u001b[0m\u001b[0;34m:\u001b[0m\u001b[0;34m\u001b[0m\u001b[0;34m\u001b[0m\u001b[0m\n\u001b[0m\u001b[1;32m   1179\u001b[0m                 \u001b[0;32myield\u001b[0m \u001b[0mobj\u001b[0m\u001b[0;34m\u001b[0m\u001b[0;34m\u001b[0m\u001b[0m\n\u001b[1;32m   1180\u001b[0m                 \u001b[0;31m# Update and possibly print the progressbar.\u001b[0m\u001b[0;34m\u001b[0m\u001b[0;34m\u001b[0m\u001b[0m\n",
      "\u001b[0;32m/usr/local/lib/python3.10/dist-packages/torch/utils/data/dataloader.py\u001b[0m in \u001b[0;36m__next__\u001b[0;34m(self)\u001b[0m\n\u001b[1;32m    631\u001b[0m                 \u001b[0;31m# TODO(https://github.com/pytorch/pytorch/issues/76750)\u001b[0m\u001b[0;34m\u001b[0m\u001b[0;34m\u001b[0m\u001b[0m\n\u001b[1;32m    632\u001b[0m                 \u001b[0mself\u001b[0m\u001b[0;34m.\u001b[0m\u001b[0m_reset\u001b[0m\u001b[0;34m(\u001b[0m\u001b[0;34m)\u001b[0m  \u001b[0;31m# type: ignore[call-arg]\u001b[0m\u001b[0;34m\u001b[0m\u001b[0;34m\u001b[0m\u001b[0m\n\u001b[0;32m--> 633\u001b[0;31m             \u001b[0mdata\u001b[0m \u001b[0;34m=\u001b[0m \u001b[0mself\u001b[0m\u001b[0;34m.\u001b[0m\u001b[0m_next_data\u001b[0m\u001b[0;34m(\u001b[0m\u001b[0;34m)\u001b[0m\u001b[0;34m\u001b[0m\u001b[0;34m\u001b[0m\u001b[0m\n\u001b[0m\u001b[1;32m    634\u001b[0m             \u001b[0mself\u001b[0m\u001b[0;34m.\u001b[0m\u001b[0m_num_yielded\u001b[0m \u001b[0;34m+=\u001b[0m \u001b[0;36m1\u001b[0m\u001b[0;34m\u001b[0m\u001b[0;34m\u001b[0m\u001b[0m\n\u001b[1;32m    635\u001b[0m             \u001b[0;32mif\u001b[0m \u001b[0mself\u001b[0m\u001b[0;34m.\u001b[0m\u001b[0m_dataset_kind\u001b[0m \u001b[0;34m==\u001b[0m \u001b[0m_DatasetKind\u001b[0m\u001b[0;34m.\u001b[0m\u001b[0mIterable\u001b[0m \u001b[0;32mand\u001b[0m\u001b[0;31m \u001b[0m\u001b[0;31m\\\u001b[0m\u001b[0;34m\u001b[0m\u001b[0;34m\u001b[0m\u001b[0m\n",
      "\u001b[0;32m/usr/local/lib/python3.10/dist-packages/torch/utils/data/dataloader.py\u001b[0m in \u001b[0;36m_next_data\u001b[0;34m(self)\u001b[0m\n\u001b[1;32m   1326\u001b[0m \u001b[0;34m\u001b[0m\u001b[0m\n\u001b[1;32m   1327\u001b[0m             \u001b[0;32massert\u001b[0m \u001b[0;32mnot\u001b[0m \u001b[0mself\u001b[0m\u001b[0;34m.\u001b[0m\u001b[0m_shutdown\u001b[0m \u001b[0;32mand\u001b[0m \u001b[0mself\u001b[0m\u001b[0;34m.\u001b[0m\u001b[0m_tasks_outstanding\u001b[0m \u001b[0;34m>\u001b[0m \u001b[0;36m0\u001b[0m\u001b[0;34m\u001b[0m\u001b[0;34m\u001b[0m\u001b[0m\n\u001b[0;32m-> 1328\u001b[0;31m             \u001b[0midx\u001b[0m\u001b[0;34m,\u001b[0m \u001b[0mdata\u001b[0m \u001b[0;34m=\u001b[0m \u001b[0mself\u001b[0m\u001b[0;34m.\u001b[0m\u001b[0m_get_data\u001b[0m\u001b[0;34m(\u001b[0m\u001b[0;34m)\u001b[0m\u001b[0;34m\u001b[0m\u001b[0;34m\u001b[0m\u001b[0m\n\u001b[0m\u001b[1;32m   1329\u001b[0m             \u001b[0mself\u001b[0m\u001b[0;34m.\u001b[0m\u001b[0m_tasks_outstanding\u001b[0m \u001b[0;34m-=\u001b[0m \u001b[0;36m1\u001b[0m\u001b[0;34m\u001b[0m\u001b[0;34m\u001b[0m\u001b[0m\n\u001b[1;32m   1330\u001b[0m             \u001b[0;32mif\u001b[0m \u001b[0mself\u001b[0m\u001b[0;34m.\u001b[0m\u001b[0m_dataset_kind\u001b[0m \u001b[0;34m==\u001b[0m \u001b[0m_DatasetKind\u001b[0m\u001b[0;34m.\u001b[0m\u001b[0mIterable\u001b[0m\u001b[0;34m:\u001b[0m\u001b[0;34m\u001b[0m\u001b[0;34m\u001b[0m\u001b[0m\n",
      "\u001b[0;32m/usr/local/lib/python3.10/dist-packages/torch/utils/data/dataloader.py\u001b[0m in \u001b[0;36m_get_data\u001b[0;34m(self)\u001b[0m\n\u001b[1;32m   1282\u001b[0m         \u001b[0;32melif\u001b[0m \u001b[0mself\u001b[0m\u001b[0;34m.\u001b[0m\u001b[0m_pin_memory\u001b[0m\u001b[0;34m:\u001b[0m\u001b[0;34m\u001b[0m\u001b[0;34m\u001b[0m\u001b[0m\n\u001b[1;32m   1283\u001b[0m             \u001b[0;32mwhile\u001b[0m \u001b[0mself\u001b[0m\u001b[0;34m.\u001b[0m\u001b[0m_pin_memory_thread\u001b[0m\u001b[0;34m.\u001b[0m\u001b[0mis_alive\u001b[0m\u001b[0;34m(\u001b[0m\u001b[0;34m)\u001b[0m\u001b[0;34m:\u001b[0m\u001b[0;34m\u001b[0m\u001b[0;34m\u001b[0m\u001b[0m\n\u001b[0;32m-> 1284\u001b[0;31m                 \u001b[0msuccess\u001b[0m\u001b[0;34m,\u001b[0m \u001b[0mdata\u001b[0m \u001b[0;34m=\u001b[0m \u001b[0mself\u001b[0m\u001b[0;34m.\u001b[0m\u001b[0m_try_get_data\u001b[0m\u001b[0;34m(\u001b[0m\u001b[0;34m)\u001b[0m\u001b[0;34m\u001b[0m\u001b[0;34m\u001b[0m\u001b[0m\n\u001b[0m\u001b[1;32m   1285\u001b[0m                 \u001b[0;32mif\u001b[0m \u001b[0msuccess\u001b[0m\u001b[0;34m:\u001b[0m\u001b[0;34m\u001b[0m\u001b[0;34m\u001b[0m\u001b[0m\n\u001b[1;32m   1286\u001b[0m                     \u001b[0;32mreturn\u001b[0m \u001b[0mdata\u001b[0m\u001b[0;34m\u001b[0m\u001b[0;34m\u001b[0m\u001b[0m\n",
      "\u001b[0;32m/usr/local/lib/python3.10/dist-packages/torch/utils/data/dataloader.py\u001b[0m in \u001b[0;36m_try_get_data\u001b[0;34m(self, timeout)\u001b[0m\n\u001b[1;32m   1130\u001b[0m         \u001b[0;31m#   (bool: whether successfully get data, any: data if successful else None)\u001b[0m\u001b[0;34m\u001b[0m\u001b[0;34m\u001b[0m\u001b[0m\n\u001b[1;32m   1131\u001b[0m         \u001b[0;32mtry\u001b[0m\u001b[0;34m:\u001b[0m\u001b[0;34m\u001b[0m\u001b[0;34m\u001b[0m\u001b[0m\n\u001b[0;32m-> 1132\u001b[0;31m             \u001b[0mdata\u001b[0m \u001b[0;34m=\u001b[0m \u001b[0mself\u001b[0m\u001b[0;34m.\u001b[0m\u001b[0m_data_queue\u001b[0m\u001b[0;34m.\u001b[0m\u001b[0mget\u001b[0m\u001b[0;34m(\u001b[0m\u001b[0mtimeout\u001b[0m\u001b[0;34m=\u001b[0m\u001b[0mtimeout\u001b[0m\u001b[0;34m)\u001b[0m\u001b[0;34m\u001b[0m\u001b[0;34m\u001b[0m\u001b[0m\n\u001b[0m\u001b[1;32m   1133\u001b[0m             \u001b[0;32mreturn\u001b[0m \u001b[0;34m(\u001b[0m\u001b[0;32mTrue\u001b[0m\u001b[0;34m,\u001b[0m \u001b[0mdata\u001b[0m\u001b[0;34m)\u001b[0m\u001b[0;34m\u001b[0m\u001b[0;34m\u001b[0m\u001b[0m\n\u001b[1;32m   1134\u001b[0m         \u001b[0;32mexcept\u001b[0m \u001b[0mException\u001b[0m \u001b[0;32mas\u001b[0m \u001b[0me\u001b[0m\u001b[0;34m:\u001b[0m\u001b[0;34m\u001b[0m\u001b[0;34m\u001b[0m\u001b[0m\n",
      "\u001b[0;32m/usr/lib/python3.10/queue.py\u001b[0m in \u001b[0;36mget\u001b[0;34m(self, block, timeout)\u001b[0m\n\u001b[1;32m    178\u001b[0m                     \u001b[0;32mif\u001b[0m \u001b[0mremaining\u001b[0m \u001b[0;34m<=\u001b[0m \u001b[0;36m0.0\u001b[0m\u001b[0;34m:\u001b[0m\u001b[0;34m\u001b[0m\u001b[0;34m\u001b[0m\u001b[0m\n\u001b[1;32m    179\u001b[0m                         \u001b[0;32mraise\u001b[0m \u001b[0mEmpty\u001b[0m\u001b[0;34m\u001b[0m\u001b[0;34m\u001b[0m\u001b[0m\n\u001b[0;32m--> 180\u001b[0;31m                     \u001b[0mself\u001b[0m\u001b[0;34m.\u001b[0m\u001b[0mnot_empty\u001b[0m\u001b[0;34m.\u001b[0m\u001b[0mwait\u001b[0m\u001b[0;34m(\u001b[0m\u001b[0mremaining\u001b[0m\u001b[0;34m)\u001b[0m\u001b[0;34m\u001b[0m\u001b[0;34m\u001b[0m\u001b[0m\n\u001b[0m\u001b[1;32m    181\u001b[0m             \u001b[0mitem\u001b[0m \u001b[0;34m=\u001b[0m \u001b[0mself\u001b[0m\u001b[0;34m.\u001b[0m\u001b[0m_get\u001b[0m\u001b[0;34m(\u001b[0m\u001b[0;34m)\u001b[0m\u001b[0;34m\u001b[0m\u001b[0;34m\u001b[0m\u001b[0m\n\u001b[1;32m    182\u001b[0m             \u001b[0mself\u001b[0m\u001b[0;34m.\u001b[0m\u001b[0mnot_full\u001b[0m\u001b[0;34m.\u001b[0m\u001b[0mnotify\u001b[0m\u001b[0;34m(\u001b[0m\u001b[0;34m)\u001b[0m\u001b[0;34m\u001b[0m\u001b[0;34m\u001b[0m\u001b[0m\n",
      "\u001b[0;32m/usr/lib/python3.10/threading.py\u001b[0m in \u001b[0;36mwait\u001b[0;34m(self, timeout)\u001b[0m\n\u001b[1;32m    322\u001b[0m             \u001b[0;32melse\u001b[0m\u001b[0;34m:\u001b[0m\u001b[0;34m\u001b[0m\u001b[0;34m\u001b[0m\u001b[0m\n\u001b[1;32m    323\u001b[0m                 \u001b[0;32mif\u001b[0m \u001b[0mtimeout\u001b[0m \u001b[0;34m>\u001b[0m \u001b[0;36m0\u001b[0m\u001b[0;34m:\u001b[0m\u001b[0;34m\u001b[0m\u001b[0;34m\u001b[0m\u001b[0m\n\u001b[0;32m--> 324\u001b[0;31m                     \u001b[0mgotit\u001b[0m \u001b[0;34m=\u001b[0m \u001b[0mwaiter\u001b[0m\u001b[0;34m.\u001b[0m\u001b[0macquire\u001b[0m\u001b[0;34m(\u001b[0m\u001b[0;32mTrue\u001b[0m\u001b[0;34m,\u001b[0m \u001b[0mtimeout\u001b[0m\u001b[0;34m)\u001b[0m\u001b[0;34m\u001b[0m\u001b[0;34m\u001b[0m\u001b[0m\n\u001b[0m\u001b[1;32m    325\u001b[0m                 \u001b[0;32melse\u001b[0m\u001b[0;34m:\u001b[0m\u001b[0;34m\u001b[0m\u001b[0;34m\u001b[0m\u001b[0m\n\u001b[1;32m    326\u001b[0m                     \u001b[0mgotit\u001b[0m \u001b[0;34m=\u001b[0m \u001b[0mwaiter\u001b[0m\u001b[0;34m.\u001b[0m\u001b[0macquire\u001b[0m\u001b[0;34m(\u001b[0m\u001b[0;32mFalse\u001b[0m\u001b[0;34m)\u001b[0m\u001b[0;34m\u001b[0m\u001b[0;34m\u001b[0m\u001b[0m\n",
      "\u001b[0;31mKeyboardInterrupt\u001b[0m: "
     ]
    }
   ],
   "source": [
    "model.load_state_dict(torch.load('mobileV2.pt', map_location=device, weights_only=True))\n",
    "trainer.train(train_loader, NUM_EPOCH, test_loader)"
   ]
  },
  {
   "cell_type": "code",
   "execution_count": null,
   "id": "80d96fc6-1d34-4e56-90e1-0235db765230",
   "metadata": {
    "execution": {
     "iopub.execute_input": "2024-12-18T19:56:58.058564Z",
     "iopub.status.busy": "2024-12-18T19:56:58.057098Z"
    }
   },
   "outputs": [
    {
     "name": "stderr",
     "output_type": "stream",
     "text": [
      "100%|██████████| 281/281 [01:57<00:00,  2.39it/s]\n"
     ]
    },
    {
     "name": "stdout",
     "output_type": "stream",
     "text": [
      "Epoch 1, Training Loss: 9.808389447311578e-07, Training Accuracy: 0.9999286461801922\n"
     ]
    },
    {
     "name": "stderr",
     "output_type": "stream",
     "text": [
      "100%|██████████| 7/7 [00:08<00:00,  1.26s/it]\n"
     ]
    },
    {
     "name": "stdout",
     "output_type": "stream",
     "text": [
      "Validation Loss: 0.06483292579650879, Validation Accuracy: 0.9811422413793104\n"
     ]
    },
    {
     "name": "stderr",
     "output_type": "stream",
     "text": [
      "100%|██████████| 281/281 [01:57<00:00,  2.39it/s]\n"
     ]
    },
    {
     "name": "stdout",
     "output_type": "stream",
     "text": [
      "Epoch 2, Training Loss: 1.5652273271579358e-06, Training Accuracy: 0.9998691846636857\n"
     ]
    },
    {
     "name": "stderr",
     "output_type": "stream",
     "text": [
      "100%|██████████| 7/7 [00:08<00:00,  1.22s/it]\n"
     ]
    },
    {
     "name": "stdout",
     "output_type": "stream",
     "text": [
      "Validation Loss: 0.06585256648915154, Validation Accuracy: 0.9822198275862069\n"
     ]
    },
    {
     "name": "stderr",
     "output_type": "stream",
     "text": [
      "100%|██████████| 281/281 [01:54<00:00,  2.45it/s]\n"
     ]
    },
    {
     "name": "stdout",
     "output_type": "stream",
     "text": [
      "Epoch 3, Training Loss: 1.3995095631914072e-06, Training Accuracy: 0.9998810769669869\n"
     ]
    },
    {
     "name": "stderr",
     "output_type": "stream",
     "text": [
      "  0%|          | 0/7 [00:00<?, ?it/s]"
     ]
    }
   ],
   "source": [
    "model.load_state_dict(torch.load('mobileV2.pt', map_location=device, weights_only=True))\n",
    "trainer.train(train_loader, NUM_EPOCH, test_loader)"
   ]
  },
  {
   "cell_type": "code",
   "execution_count": 33,
   "id": "b0bc0f75-3970-43c0-87cf-958acc898f57",
   "metadata": {
    "execution": {
     "iopub.execute_input": "2024-12-18T19:55:41.425589Z",
     "iopub.status.busy": "2024-12-18T19:55:41.424358Z",
     "iopub.status.idle": "2024-12-18T19:55:41.529234Z",
     "shell.execute_reply": "2024-12-18T19:55:41.527926Z",
     "shell.execute_reply.started": "2024-12-18T19:55:41.425551Z"
    },
    "tags": []
   },
   "outputs": [
    {
     "name": "stdout",
     "output_type": "stream",
     "text": [
      "Model improved and saved.\n"
     ]
    }
   ],
   "source": [
    "PATH = \"mobileV2.pt\"\n",
    "print('Model improved and saved.')\n",
    "torch.save(trainer.model.state_dict(), PATH)"
   ]
  },
  {
   "cell_type": "code",
   "execution_count": null,
   "id": "2f13e611-64f4-4d5f-b92c-c9a517790db5",
   "metadata": {},
   "outputs": [],
   "source": []
  }
 ],
 "metadata": {
  "kernelspec": {
   "display_name": "DataSphere Kernel",
   "language": "python",
   "name": "python3"
  },
  "language_info": {
   "codemirror_mode": {
    "name": "ipython",
    "version": 3
   },
   "file_extension": ".py",
   "mimetype": "text/x-python",
   "name": "python",
   "nbconvert_exporter": "python",
   "pygments_lexer": "ipython3",
   "version": "3.10.12"
  }
 },
 "nbformat": 4,
 "nbformat_minor": 5
}
